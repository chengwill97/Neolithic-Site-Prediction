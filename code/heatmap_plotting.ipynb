{
 "cells": [
  {
   "cell_type": "code",
   "execution_count": 2,
   "metadata": {},
   "outputs": [
    {
     "name": "stdout",
     "output_type": "stream",
     "text": [
      "areaData_30m_N51N55_W11W06.csv  ireland_sites.csv\r\n",
      "\u001b[34mbritain-srtm-30m\u001b[m\u001b[m/               \u001b[34mone_class_svm\u001b[m\u001b[m/\r\n",
      "\u001b[34mbritain-srtm-90m\u001b[m\u001b[m/               predict_sites_elevation.csv\r\n",
      "\u001b[34mcalculated_aqua_distances\u001b[m\u001b[m/      retrieve_coord_elevation.ipynb\r\n",
      "common_sites_aqua_distance.csv  sites.csv\r\n",
      "elevation_heatmap.png           srtm.py\r\n",
      "file_download.py                srtm.pyc\r\n",
      "heatmap_plotting.ipynb\r\n"
     ]
    }
   ],
   "source": [
    "%ls"
   ]
  },
  {
   "cell_type": "markdown",
   "metadata": {},
   "source": [
    "<h3>\n",
    "Plotting points from sites.csv\n",
    "<br>\n",
    "<br>\n",
    "Plotting heatmap from ireland_sites.csv\n",
    "</h3>"
   ]
  },
  {
   "cell_type": "markdown",
   "metadata": {},
   "source": [
    "Import data"
   ]
  },
  {
   "cell_type": "code",
   "execution_count": 2,
   "metadata": {
    "collapsed": true
   },
   "outputs": [
    {
     "name": "stderr",
     "output_type": "stream",
     "text": [
      "/Library/Frameworks/Python.framework/Versions/2.7/lib/python2.7/site-packages/ipykernel_launcher.py:9: UserWarning: \n",
      "This call to matplotlib.use() has no effect because the backend has already\n",
      "been chosen; matplotlib.use() must be called *before* pylab, matplotlib.pyplot,\n",
      "or matplotlib.backends is imported for the first time.\n",
      "\n",
      "The backend was *originally* set to 'module://ipykernel.pylab.backend_inline' by the following code:\n",
      "  File \"/Library/Frameworks/Python.framework/Versions/2.7/lib/python2.7/runpy.py\", line 174, in _run_module_as_main\n",
      "    \"__main__\", fname, loader, pkg_name)\n",
      "  File \"/Library/Frameworks/Python.framework/Versions/2.7/lib/python2.7/runpy.py\", line 72, in _run_code\n",
      "    exec code in run_globals\n",
      "  File \"/Library/Frameworks/Python.framework/Versions/2.7/lib/python2.7/site-packages/ipykernel_launcher.py\", line 16, in <module>\n",
      "    app.launch_new_instance()\n",
      "  File \"/Library/Frameworks/Python.framework/Versions/2.7/lib/python2.7/site-packages/traitlets/config/application.py\", line 658, in launch_instance\n",
      "    app.start()\n",
      "  File \"/Library/Frameworks/Python.framework/Versions/2.7/lib/python2.7/site-packages/ipykernel/kernelapp.py\", line 477, in start\n",
      "    ioloop.IOLoop.instance().start()\n",
      "  File \"/Library/Frameworks/Python.framework/Versions/2.7/lib/python2.7/site-packages/zmq/eventloop/ioloop.py\", line 177, in start\n",
      "    super(ZMQIOLoop, self).start()\n",
      "  File \"/Library/Frameworks/Python.framework/Versions/2.7/lib/python2.7/site-packages/tornado/ioloop.py\", line 888, in start\n",
      "    handler_func(fd_obj, events)\n",
      "  File \"/Library/Frameworks/Python.framework/Versions/2.7/lib/python2.7/site-packages/tornado/stack_context.py\", line 277, in null_wrapper\n",
      "    return fn(*args, **kwargs)\n",
      "  File \"/Library/Frameworks/Python.framework/Versions/2.7/lib/python2.7/site-packages/zmq/eventloop/zmqstream.py\", line 440, in _handle_events\n",
      "    self._handle_recv()\n",
      "  File \"/Library/Frameworks/Python.framework/Versions/2.7/lib/python2.7/site-packages/zmq/eventloop/zmqstream.py\", line 472, in _handle_recv\n",
      "    self._run_callback(callback, msg)\n",
      "  File \"/Library/Frameworks/Python.framework/Versions/2.7/lib/python2.7/site-packages/zmq/eventloop/zmqstream.py\", line 414, in _run_callback\n",
      "    callback(*args, **kwargs)\n",
      "  File \"/Library/Frameworks/Python.framework/Versions/2.7/lib/python2.7/site-packages/tornado/stack_context.py\", line 277, in null_wrapper\n",
      "    return fn(*args, **kwargs)\n",
      "  File \"/Library/Frameworks/Python.framework/Versions/2.7/lib/python2.7/site-packages/ipykernel/kernelbase.py\", line 283, in dispatcher\n",
      "    return self.dispatch_shell(stream, msg)\n",
      "  File \"/Library/Frameworks/Python.framework/Versions/2.7/lib/python2.7/site-packages/ipykernel/kernelbase.py\", line 235, in dispatch_shell\n",
      "    handler(stream, idents, msg)\n",
      "  File \"/Library/Frameworks/Python.framework/Versions/2.7/lib/python2.7/site-packages/ipykernel/kernelbase.py\", line 399, in execute_request\n",
      "    user_expressions, allow_stdin)\n",
      "  File \"/Library/Frameworks/Python.framework/Versions/2.7/lib/python2.7/site-packages/ipykernel/ipkernel.py\", line 196, in do_execute\n",
      "    res = shell.run_cell(code, store_history=store_history, silent=silent)\n",
      "  File \"/Library/Frameworks/Python.framework/Versions/2.7/lib/python2.7/site-packages/ipykernel/zmqshell.py\", line 533, in run_cell\n",
      "    return super(ZMQInteractiveShell, self).run_cell(*args, **kwargs)\n",
      "  File \"/Library/Frameworks/Python.framework/Versions/2.7/lib/python2.7/site-packages/IPython/core/interactiveshell.py\", line 2718, in run_cell\n",
      "    interactivity=interactivity, compiler=compiler, result=result)\n",
      "  File \"/Library/Frameworks/Python.framework/Versions/2.7/lib/python2.7/site-packages/IPython/core/interactiveshell.py\", line 2822, in run_ast_nodes\n",
      "    if self.run_code(code, result):\n",
      "  File \"/Library/Frameworks/Python.framework/Versions/2.7/lib/python2.7/site-packages/IPython/core/interactiveshell.py\", line 2882, in run_code\n",
      "    exec(code_obj, self.user_global_ns, self.user_ns)\n",
      "  File \"<ipython-input-2-e73d849325da>\", line 1, in <module>\n",
      "    get_ipython().magic(u'matplotlib inline')\n",
      "  File \"/Library/Frameworks/Python.framework/Versions/2.7/lib/python2.7/site-packages/IPython/core/interactiveshell.py\", line 2160, in magic\n",
      "    return self.run_line_magic(magic_name, magic_arg_s)\n",
      "  File \"/Library/Frameworks/Python.framework/Versions/2.7/lib/python2.7/site-packages/IPython/core/interactiveshell.py\", line 2081, in run_line_magic\n",
      "    result = fn(*args,**kwargs)\n",
      "  File \"<decorator-gen-105>\", line 2, in matplotlib\n",
      "  File \"/Library/Frameworks/Python.framework/Versions/2.7/lib/python2.7/site-packages/IPython/core/magic.py\", line 188, in <lambda>\n",
      "    call = lambda f, *a, **k: f(*a, **k)\n",
      "  File \"/Library/Frameworks/Python.framework/Versions/2.7/lib/python2.7/site-packages/IPython/core/magics/pylab.py\", line 100, in matplotlib\n",
      "    gui, backend = self.shell.enable_matplotlib(args.gui)\n",
      "  File \"/Library/Frameworks/Python.framework/Versions/2.7/lib/python2.7/site-packages/IPython/core/interactiveshell.py\", line 2950, in enable_matplotlib\n",
      "    pt.activate_matplotlib(backend)\n",
      "  File \"/Library/Frameworks/Python.framework/Versions/2.7/lib/python2.7/site-packages/IPython/core/pylabtools.py\", line 308, in activate_matplotlib\n",
      "    matplotlib.pyplot.switch_backend(backend)\n",
      "  File \"/Library/Frameworks/Python.framework/Versions/2.7/lib/python2.7/site-packages/matplotlib/pyplot.py\", line 232, in switch_backend\n",
      "    matplotlib.use(newbackend, warn=False, force=True)\n",
      "  File \"/Library/Frameworks/Python.framework/Versions/2.7/lib/python2.7/site-packages/matplotlib/__init__.py\", line 1305, in use\n",
      "    reload(sys.modules['matplotlib.backends'])\n",
      "  File \"/Library/Frameworks/Python.framework/Versions/2.7/lib/python2.7/site-packages/matplotlib/backends/__init__.py\", line 14, in <module>\n",
      "    line for line in traceback.format_stack()\n",
      "\n",
      "\n",
      "  if __name__ == '__main__':\n"
     ]
    },
    {
     "data": {
      "text/html": [
       "<div>\n",
       "<style scoped>\n",
       "    .dataframe tbody tr th:only-of-type {\n",
       "        vertical-align: middle;\n",
       "    }\n",
       "\n",
       "    .dataframe tbody tr th {\n",
       "        vertical-align: top;\n",
       "    }\n",
       "\n",
       "    .dataframe thead th {\n",
       "        text-align: right;\n",
       "    }\n",
       "</style>\n",
       "<table border=\"1\" class=\"dataframe\">\n",
       "  <thead>\n",
       "    <tr style=\"text-align: right;\">\n",
       "      <th></th>\n",
       "      <th>Country</th>\n",
       "      <th>Latitude</th>\n",
       "      <th>Longitude</th>\n",
       "      <th>SiteID</th>\n",
       "      <th>SiteName</th>\n",
       "      <th>slope</th>\n",
       "      <th>Profile cu</th>\n",
       "      <th>ele30m</th>\n",
       "      <th>tangential</th>\n",
       "      <th>aspect</th>\n",
       "      <th>lake</th>\n",
       "      <th>river</th>\n",
       "    </tr>\n",
       "  </thead>\n",
       "  <tbody>\n",
       "    <tr>\n",
       "      <th>0</th>\n",
       "      <td>Great Britain</td>\n",
       "      <td>51.9691</td>\n",
       "      <td>-5.0823</td>\n",
       "      <td>S1010</td>\n",
       "      <td>Abermawr I</td>\n",
       "      <td>7.47827</td>\n",
       "      <td>-0.00108</td>\n",
       "      <td>11</td>\n",
       "      <td>-0.00141</td>\n",
       "      <td>233.23158</td>\n",
       "      <td>1.814888</td>\n",
       "      <td>1.662733</td>\n",
       "    </tr>\n",
       "    <tr>\n",
       "      <th>1</th>\n",
       "      <td>Great Britain</td>\n",
       "      <td>51.6800</td>\n",
       "      <td>-1.2613</td>\n",
       "      <td>S1011</td>\n",
       "      <td>Abingdon</td>\n",
       "      <td>0.78879</td>\n",
       "      <td>-0.00036</td>\n",
       "      <td>59</td>\n",
       "      <td>-0.00152</td>\n",
       "      <td>241.79982</td>\n",
       "      <td>4.349531</td>\n",
       "      <td>0.290761</td>\n",
       "    </tr>\n",
       "    <tr>\n",
       "      <th>2</th>\n",
       "      <td>Great Britain</td>\n",
       "      <td>50.9969</td>\n",
       "      <td>-0.8798</td>\n",
       "      <td>S1040</td>\n",
       "      <td>adjacent to barrows excavated 1973-5</td>\n",
       "      <td>6.83334</td>\n",
       "      <td>0.00172</td>\n",
       "      <td>54</td>\n",
       "      <td>0.00173</td>\n",
       "      <td>344.33316</td>\n",
       "      <td>3.798896</td>\n",
       "      <td>0.960163</td>\n",
       "    </tr>\n",
       "    <tr>\n",
       "      <th>3</th>\n",
       "      <td>Great Britain</td>\n",
       "      <td>56.9485</td>\n",
       "      <td>-7.5241</td>\n",
       "      <td>S1072</td>\n",
       "      <td>Alt Chrysal</td>\n",
       "      <td>13.02903</td>\n",
       "      <td>-0.00150</td>\n",
       "      <td>17</td>\n",
       "      <td>0.00028</td>\n",
       "      <td>275.50116</td>\n",
       "      <td>1.804370</td>\n",
       "      <td>1.930712</td>\n",
       "    </tr>\n",
       "    <tr>\n",
       "      <th>4</th>\n",
       "      <td>Ireland</td>\n",
       "      <td>54.5680</td>\n",
       "      <td>-7.0367</td>\n",
       "      <td>S1073</td>\n",
       "      <td>Altanagh</td>\n",
       "      <td>3.95142</td>\n",
       "      <td>0.00196</td>\n",
       "      <td>181</td>\n",
       "      <td>0.00080</td>\n",
       "      <td>275.78076</td>\n",
       "      <td>0.641170</td>\n",
       "      <td>0.140272</td>\n",
       "    </tr>\n",
       "    <tr>\n",
       "      <th>5</th>\n",
       "      <td>Great Britain</td>\n",
       "      <td>52.5563</td>\n",
       "      <td>-0.2902</td>\n",
       "      <td>S1075</td>\n",
       "      <td>Alton Longville</td>\n",
       "      <td>5.74562</td>\n",
       "      <td>-0.00211</td>\n",
       "      <td>5</td>\n",
       "      <td>-0.00275</td>\n",
       "      <td>105.29366</td>\n",
       "      <td>5.465979</td>\n",
       "      <td>0.249974</td>\n",
       "    </tr>\n",
       "    <tr>\n",
       "      <th>6</th>\n",
       "      <td>Great Britain</td>\n",
       "      <td>57.6368</td>\n",
       "      <td>-6.2042</td>\n",
       "      <td>S1081</td>\n",
       "      <td>An Corran</td>\n",
       "      <td>5.66940</td>\n",
       "      <td>-0.00194</td>\n",
       "      <td>2</td>\n",
       "      <td>0.00143</td>\n",
       "      <td>40.63331</td>\n",
       "      <td>0.654734</td>\n",
       "      <td>1.758929</td>\n",
       "    </tr>\n",
       "    <tr>\n",
       "      <th>7</th>\n",
       "      <td>Great Britain</td>\n",
       "      <td>54.1014</td>\n",
       "      <td>-6.6173</td>\n",
       "      <td>S1087</td>\n",
       "      <td>Annaghmare</td>\n",
       "      <td>3.65238</td>\n",
       "      <td>0.00000</td>\n",
       "      <td>119</td>\n",
       "      <td>0.00000</td>\n",
       "      <td>329.55670</td>\n",
       "      <td>0.912949</td>\n",
       "      <td>0.202497</td>\n",
       "    </tr>\n",
       "    <tr>\n",
       "      <th>8</th>\n",
       "      <td>Great Britain</td>\n",
       "      <td>53.3446</td>\n",
       "      <td>-1.2053</td>\n",
       "      <td>S1089</td>\n",
       "      <td>Anston Stones Cave</td>\n",
       "      <td>5.15504</td>\n",
       "      <td>0.00015</td>\n",
       "      <td>105</td>\n",
       "      <td>-0.00185</td>\n",
       "      <td>238.38181</td>\n",
       "      <td>4.289628</td>\n",
       "      <td>0.474782</td>\n",
       "    </tr>\n",
       "    <tr>\n",
       "      <th>9</th>\n",
       "      <td>Great Britain</td>\n",
       "      <td>51.4899</td>\n",
       "      <td>-0.2354</td>\n",
       "      <td>S1090</td>\n",
       "      <td>Hammersmith</td>\n",
       "      <td>5.96952</td>\n",
       "      <td>0.00285</td>\n",
       "      <td>3</td>\n",
       "      <td>-0.00288</td>\n",
       "      <td>248.17577</td>\n",
       "      <td>4.499405</td>\n",
       "      <td>0.677580</td>\n",
       "    </tr>\n",
       "  </tbody>\n",
       "</table>\n",
       "</div>"
      ],
      "text/plain": [
       "         Country  Latitude  Longitude SiteID  \\\n",
       "0  Great Britain   51.9691    -5.0823  S1010   \n",
       "1  Great Britain   51.6800    -1.2613  S1011   \n",
       "2  Great Britain   50.9969    -0.8798  S1040   \n",
       "3  Great Britain   56.9485    -7.5241  S1072   \n",
       "4        Ireland   54.5680    -7.0367  S1073   \n",
       "5  Great Britain   52.5563    -0.2902  S1075   \n",
       "6  Great Britain   57.6368    -6.2042  S1081   \n",
       "7  Great Britain   54.1014    -6.6173  S1087   \n",
       "8  Great Britain   53.3446    -1.2053  S1089   \n",
       "9  Great Britain   51.4899    -0.2354  S1090   \n",
       "\n",
       "                               SiteName     slope  Profile cu  ele30m  \\\n",
       "0                            Abermawr I   7.47827    -0.00108      11   \n",
       "1                              Abingdon   0.78879    -0.00036      59   \n",
       "2  adjacent to barrows excavated 1973-5   6.83334     0.00172      54   \n",
       "3                           Alt Chrysal  13.02903    -0.00150      17   \n",
       "4                              Altanagh   3.95142     0.00196     181   \n",
       "5                       Alton Longville   5.74562    -0.00211       5   \n",
       "6                             An Corran   5.66940    -0.00194       2   \n",
       "7                            Annaghmare   3.65238     0.00000     119   \n",
       "8                    Anston Stones Cave   5.15504     0.00015     105   \n",
       "9                           Hammersmith   5.96952     0.00285       3   \n",
       "\n",
       "   tangential     aspect      lake     river  \n",
       "0    -0.00141  233.23158  1.814888  1.662733  \n",
       "1    -0.00152  241.79982  4.349531  0.290761  \n",
       "2     0.00173  344.33316  3.798896  0.960163  \n",
       "3     0.00028  275.50116  1.804370  1.930712  \n",
       "4     0.00080  275.78076  0.641170  0.140272  \n",
       "5    -0.00275  105.29366  5.465979  0.249974  \n",
       "6     0.00143   40.63331  0.654734  1.758929  \n",
       "7     0.00000  329.55670  0.912949  0.202497  \n",
       "8    -0.00185  238.38181  4.289628  0.474782  \n",
       "9    -0.00288  248.17577  4.499405  0.677580  "
      ]
     },
     "execution_count": 2,
     "metadata": {},
     "output_type": "execute_result"
    }
   ],
   "source": [
    "%matplotlib inline\n",
    "\n",
    "import os\n",
    "import csv\n",
    "import numpy  as np\n",
    "import pandas as pd\n",
    "\n",
    "import matplotlib\n",
    "matplotlib.use('nbagg')\n",
    "\n",
    "from mpl_toolkits.basemap import Basemap\n",
    "import matplotlib.pyplot as plt\n",
    "\n",
    "data_folder = ''\n",
    "data_file = 'sites.csv'\n",
    "commonsites = os.path.join(data_folder, data_file)\n",
    "df = pd.read_csv(commonsites, sep=',', error_bad_lines=False)\n",
    "df.dropna()\n",
    "\n",
    "height_data_folder = ''\n",
    "height_data_file = 'ireland_sites.csv'\n",
    "commonsites = os.path.join(height_data_folder, height_data_file)\n",
    "height_df = pd.read_csv(commonsites, sep=',', error_bad_lines=False)\n",
    "df.dropna()\n",
    "\n",
    "df.head(10)\n",
    "# height_df.head(10)"
   ]
  },
  {
   "cell_type": "markdown",
   "metadata": {},
   "source": [
    "Preprocess sites.csv Data"
   ]
  },
  {
   "cell_type": "code",
   "execution_count": 3,
   "metadata": {
    "collapsed": true
   },
   "outputs": [],
   "source": [
    "country1 = ''\n",
    "country2 = 'Ireland'\n",
    "\n",
    "country_df = df.where((df['Country'] == country1) | (df['Country'] == country2))\n",
    "# country_df = df\n",
    "# set min and max latitude and longitude\n",
    "minlat = country_df['Latitude'].min()\n",
    "maxlat = country_df['Latitude'].max()\n",
    "minlon = country_df['Longitude'].min()\n",
    "maxlon = country_df['Longitude'].max()\n",
    "\n",
    "difflat = maxlat - minlat\n",
    "difflon = maxlon - minlon\n",
    "\n",
    "country_df = country_df.dropna()"
   ]
  },
  {
   "cell_type": "markdown",
   "metadata": {},
   "source": [
    "Set Boundaries of Map"
   ]
  },
  {
   "cell_type": "code",
   "execution_count": 4,
   "metadata": {
    "collapsed": true
   },
   "outputs": [],
   "source": [
    "# set min and max latitude and longitude\n",
    "minlat = height_df['Latitude'].min()\n",
    "maxlat = height_df['Latitude'].max()\n",
    "minlon = height_df['Longitude'].min()\n",
    "maxlon = height_df['Longitude'].max()\n",
    "\n",
    "difflat = maxlat - minlat\n",
    "difflon = maxlon - minlon\n",
    "\n",
    "minlat -= (difflat / 10) * 2\n",
    "maxlat += (difflat / 10) * 2\n",
    "minlon -= (difflon / 10) * 2\n",
    "maxlon += (difflon / 10) * 2\n",
    "\n",
    "\n",
    "height_df = height_df.dropna()"
   ]
  },
  {
   "cell_type": "code",
   "execution_count": 34,
   "metadata": {},
   "outputs": [
    {
     "data": {
      "text/plain": [
       "['Country',\n",
       " 'Latitude',\n",
       " 'Longitude',\n",
       " 'SiteID',\n",
       " 'SiteName',\n",
       " 'slope',\n",
       " 'Profile cu',\n",
       " 'ele30m',\n",
       " 'tangential',\n",
       " 'aspect',\n",
       " 'lake',\n",
       " 'river']"
      ]
     },
     "execution_count": 34,
     "metadata": {},
     "output_type": "execute_result"
    }
   ],
   "source": [
    "list(df)"
   ]
  },
  {
   "cell_type": "code",
   "execution_count": 41,
   "metadata": {},
   "outputs": [
    {
     "name": "stdout",
     "output_type": "stream",
     "text": [
      "41.46093\n",
      "0.0\n"
     ]
    },
    {
     "data": {
      "text/plain": [
       "<matplotlib.axes._subplots.AxesSubplot at 0x1388a6fd0>"
      ]
     },
     "execution_count": 41,
     "metadata": {},
     "output_type": "execute_result"
    },
    {
     "data": {
      "image/png": "[encoded data removed]",
      "text/plain": [
       "<matplotlib.figure.Figure at 0x11c7ca2d0>"
      ]
     },
     "metadata": {},
     "output_type": "display_data"
    }
   ],
   "source": [
    "print df.slope.max()\n",
    "print df.slope.min()\n",
    "df.slope.value_counts().plot()"
   ]
  },
  {
   "cell_type": "code",
   "execution_count": 9,
   "metadata": {},
   "outputs": [
    {
     "data": {
      "text/plain": [
       "['id',\n",
       " 'Latitude',\n",
       " 'Longitude',\n",
       " 'Elevation',\n",
       " 'lake',\n",
       " 'river',\n",
       " 'aspect',\n",
       " 'slope',\n",
       " 'ele30m']"
      ]
     },
     "execution_count": 9,
     "metadata": {},
     "output_type": "execute_result"
    }
   ],
   "source": [
    "list(height_df)"
   ]
  },
  {
   "cell_type": "code",
   "execution_count": 10,
   "metadata": {
    "scrolled": false
   },
   "outputs": [
    {
     "data": {
      "text/plain": [
       "Text(0,0.5,u'Latitude\\n\\n\\n')"
      ]
     },
     "execution_count": 10,
     "metadata": {},
     "output_type": "execute_result"
    },
    {
     "data": {
      "image/png": "[encoded data removed]",
      "text/plain": [
       "<matplotlib.figure.Figure at 0x10ddc2350>"
      ]
     },
     "metadata": {},
     "output_type": "display_data"
    }
   ],
   "source": [
    "# Plot the geological features\n",
    "m = Basemap(projection='cyl',\n",
    "            llcrnrlat=minlat,\n",
    "            urcrnrlat=maxlat,     \n",
    "            llcrnrlon=minlon,\n",
    "            urcrnrlon=maxlon,\n",
    "            resolution='l')\n",
    "\n",
    "m.drawparallels(np.arange(int(minlat),int(maxlat),1),labels=[1,0,0,0])\n",
    "m.drawmeridians(np.arange(int(minlon),int(maxlon),1),labels=[0,0,0,1])\n",
    "m.fillcontinents(color='None')\n",
    "\n",
    "m.drawcoastlines()\n",
    "m.drawcountries()\n",
    "m.drawstates()\n",
    "# m.drawrivers()\n",
    "# m.fillcontinents(color='#04BAE3', lake_color='#FFFFFF')\n",
    "# m.drawmapboundary(fill_color='#FFFFFF')\n",
    "# m.bluemarble()\n",
    "\n",
    "# Plot Ireland Heatmap\n",
    "column = 'lake'\n",
    "\n",
    "heightlat = np.array(height_df['Latitude'].tolist())\n",
    "heightlon = np.array(height_df['Longitude'].tolist())\n",
    "z = np.array(height_df[column].tolist())\n",
    "x, y = m(heightlon, heightlat)\n",
    "plt.scatter(x, y, c=z, s=.1)\n",
    "plt.colorbar(label='height (m)')\n",
    "\n",
    "# Plot sites.csv scatterplots\n",
    "\n",
    "lat = np.array(country_df['Latitude'].tolist())\n",
    "lon = np.array(country_df['Longitude'].tolist())\n",
    "\n",
    "x, y = m(lon, lat)\n",
    "m.plot(x, y, 'r.', markersize=1)\n",
    "\n",
    "# Plot labels\n",
    "plt.title('Ireland Elevation Heatmap,\\nRed = Artifact Location')\n",
    "plt.xlabel('\\n\\n\\nLongitude')\n",
    "plt.ylabel('Latitude\\n\\n\\n')"
   ]
  },
  {
   "cell_type": "code",
   "execution_count": 11,
   "metadata": {},
   "outputs": [],
   "source": [
    "plt.show()"
   ]
  },
  {
   "cell_type": "code",
   "execution_count": null,
   "metadata": {
    "collapsed": true
   },
   "outputs": [],
   "source": []
  }
 ],
 "metadata": {
  "kernelspec": {
   "display_name": "Python 2",
   "language": "python",
   "name": "python2"
  },
  "language_info": {
   "codemirror_mode": {
    "name": "ipython",
    "version": 2
   },
   "file_extension": ".py",
   "mimetype": "text/x-python",
   "name": "python",
   "nbconvert_exporter": "python",
   "pygments_lexer": "ipython2",
   "version": "2.7.13"
  }
 },
 "nbformat": 4,
 "nbformat_minor": 2
}
