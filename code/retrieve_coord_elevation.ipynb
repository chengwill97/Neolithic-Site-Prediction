{
 "cells": [
  {
   "cell_type": "code",
   "execution_count": 12,
   "metadata": {
    "collapsed": true
   },
   "outputs": [],
   "source": [
    "import csv\n",
    "import os\n",
    "import time\n",
    "\n",
    "from scipy import *\n",
    "import numpy as np\n",
    "\n",
    "from srtm import get_elevation\n",
    "from srtm import get_file_name\n",
    "from srtm import load_elevations_into_memory\n",
    "\n",
    "def append_csv(output_file, data):\n",
    "    try:\n",
    "        with open(output_file, 'a') as file:\n",
    "            writer = csv.writer(file)\n",
    "            writer.writerow(data)\n",
    "    except (OSError, IOError) as e:\n",
    "        print e"
   ]
  },
  {
   "cell_type": "code",
   "execution_count": 13,
   "metadata": {
    "collapsed": true
   },
   "outputs": [],
   "source": [
    "#input SRTM files\n",
    "srtm_folder = 'britain-srtm-30m'"
   ]
  },
  {
   "cell_type": "code",
   "execution_count": 56,
   "metadata": {},
   "outputs": [
    {
     "name": "stdout",
     "output_type": "stream",
     "text": [
      "areaData_30m_N51N55_W11W06.csv\n"
     ]
    }
   ],
   "source": [
    "#output file\n",
    "samples = 3601\n",
    "meter_distance = 450\n",
    "degree_sep = meter_distance / 30. / 3601.\n",
    "\n",
    "minlat = 51.\n",
    "maxlat = 55.\n",
    "minlon = -11.\n",
    "maxlon = -6.\n",
    "\n",
    "# create file name\n",
    "area_name = 'areaData_30m_'\n",
    "if minlat >= 0:\n",
    "    area_name += 'N%02d' % abs(minlat)\n",
    "    area_name += 'N%02d' % abs(maxlat)\n",
    "else:\n",
    "    area_name += 'S%02d' % abs(minlat)\n",
    "    if maxlat <= 0 :\n",
    "        area_name += 'S%02d' % abs(maxlat)\n",
    "    else :\n",
    "        area_name += 'N%02d' % abs(maxlat)\n",
    "area_name += '_'\n",
    "if minlon >= 0:\n",
    "    area_name += 'E%02d' % abs(minlon)\n",
    "    area_name += 'E%02d' % abs(maxlon)\n",
    "else:\n",
    "    area_name += 'W%02d' % abs(minlon)\n",
    "    if maxlon <= 0 :\n",
    "        area_name += 'W%02d' % abs(maxlon)\n",
    "    else :\n",
    "        area_name += 'E%02d' % abs(maxlon) \n",
    "area_name += '.csv'\n",
    "\n",
    "area_name_folder = ''\n",
    "area_name = os.path.join(area_name_folder, area_name)\n",
    "\n",
    "print area_name\n",
    "\n",
    "# make folder path\n",
    "if area_name_folder and not os.path.isdir(area_name_folder):\n",
    "    os.mkdir(area_name_folder)"
   ]
  },
  {
   "cell_type": "code",
   "execution_count": 60,
   "metadata": {},
   "outputs": [
    {
     "name": "stdout",
     "output_type": "stream",
     "text": [
      "loaded britain-srtm-30m/N51W011.hgt\n",
      "loaded britain-srtm-30m/N52W011.hgt\n",
      "loaded britain-srtm-30m/N53W011.hgt\n",
      "loaded britain-srtm-30m/N54W011.hgt\n",
      "loaded britain-srtm-30m/N51W010.hgt\n",
      "loaded britain-srtm-30m/N52W010.hgt\n",
      "loaded britain-srtm-30m/N53W010.hgt\n",
      "loaded britain-srtm-30m/N54W010.hgt\n",
      "loaded britain-srtm-30m/N51W009.hgt\n",
      "loaded britain-srtm-30m/N52W009.hgt\n",
      "loaded britain-srtm-30m/N53W009.hgt\n",
      "loaded britain-srtm-30m/N54W009.hgt\n",
      "loaded britain-srtm-30m/N55W009.hgt\n",
      "loaded britain-srtm-30m/N51W008.hgt\n",
      "loaded britain-srtm-30m/N52W008.hgt\n",
      "loaded britain-srtm-30m/N53W008.hgt\n",
      "loaded britain-srtm-30m/N54W008.hgt\n",
      "loaded britain-srtm-30m/N55W008.hgt\n",
      "loaded britain-srtm-30m/N52W007.hgt\n",
      "loaded britain-srtm-30m/N53W007.hgt\n",
      "loaded britain-srtm-30m/N54W007.hgt\n",
      "loaded britain-srtm-30m/N55W007.hgt\n",
      "loaded britain-srtm-30m/N51W006.hgt\n",
      "loaded britain-srtm-30m/N52W006.hgt\n",
      "loaded britain-srtm-30m/N53W006.hgt\n",
      "loaded britain-srtm-30m/N54W006.hgt\n",
      "loaded britain-srtm-30m/N55W006.hgt\n",
      "Total time for 450 meter separation: 8.010504 seconds\n",
      "Number of elements 660456\n"
     ]
    }
   ],
   "source": [
    "t0 = time.time()\n",
    "\n",
    "with open(area_name, 'w') as areaDataFile:\n",
    "    \n",
    "    i=0\n",
    "    for lon in arange(minlon, maxlon+1):\n",
    "        for lat in arange(minlat, maxlat+1):\n",
    "\n",
    "            # load elevation data into memory\n",
    "            srtm_file_name = get_file_name(lon, lat, srtm_folder)\n",
    "            if srtm_file_name == None:\n",
    "                elevation_loaded = False\n",
    "            else:\n",
    "                elevation_loaded = True\n",
    "                elevations = load_elevations_into_memory(srtm_file_name, lon, lat)\n",
    "                print 'loaded %s' % srtm_file_name\n",
    "\n",
    "                head = '%s,%s,%s,%s\\n' % ('id','Latitude', 'Longitude', 'Elevation')\n",
    "                areaDataFile.write(head)\n",
    "\n",
    "                for lon_i in arange(lon, lon+1., degree_sep):\n",
    "\n",
    "                    lon_row = 0 \n",
    "                    if elevation_loaded:\n",
    "                        lon_row = int(round((lon_i - int(lon_i)) * (samples - 1), 0))\n",
    "\n",
    "                    for lat_i in arange(lat, lat+1., degree_sep):\n",
    "\n",
    "                        if not elevation_loaded:\n",
    "                            srtm_file_name = get_file_name(lon, lat, srtm_folder)\n",
    "                            if srtm_file_name == None:\n",
    "                                elevation_loaded = False\n",
    "                            else:\n",
    "                                elevation_loaded = True\n",
    "                                elevations = load_elevations_into_memory(srtm_file_name, lon, lat)\n",
    "                                lon_row = int(round((lon_i - int(lon_i)) * (samples - 1), 0))\n",
    "                                print 'loaded %s' % srtm_file_name\n",
    "                        \n",
    "                        # remove great britain points\n",
    "                        if lon_i > -5.50003                     \\\n",
    "                           or (lon_i > -5.1 and lat_i > 55)     \\\n",
    "                           or (lon_i > -6.68 and lat_i > 55.47) \\\n",
    "                           or (lon_i > -5.91 and lat_i > 55.16):\n",
    "                            continue\n",
    "                        \n",
    "                        lat_row = int(round((lat_i - int(lat_i)) * (samples - 1), 0))\n",
    "                        elevation = elevations[samples - 1 - lat_row, lon_row].astype(int)\n",
    "                        data = '%d,%.4f,%.4f,%d\\n' % (i, lat_i, lon_i, elevation)\n",
    "                        if elevation > 0:\n",
    "                            areaDataFile.write(data)\n",
    "                            i += 1\n",
    "tf = time.time()\n",
    "\n",
    "print 'Total time for %d meter separation: %f seconds' % (meter_distance, tf-t0)\n",
    "print 'Number of elements %d' % i"
   ]
  },
  {
   "cell_type": "code",
   "execution_count": 55,
   "metadata": {},
   "outputs": [
    {
     "name": "stdout",
     "output_type": "stream",
     "text": [
      "-32768\n"
     ]
    }
   ],
   "source": [
    "print get_elevation(51.6055,-9.4614, srtm_folder)"
   ]
  },
  {
   "cell_type": "code",
   "execution_count": null,
   "metadata": {
    "collapsed": true
   },
   "outputs": [],
   "source": []
  }
 ],
 "metadata": {
  "kernelspec": {
   "display_name": "Python 2",
   "language": "python",
   "name": "python2"
  },
  "language_info": {
   "codemirror_mode": {
    "name": "ipython",
    "version": 2
   },
   "file_extension": ".py",
   "mimetype": "text/x-python",
   "name": "python",
   "nbconvert_exporter": "python",
   "pygments_lexer": "ipython2",
   "version": "2.7.13"
  }
 },
 "nbformat": 4,
 "nbformat_minor": 2
}
