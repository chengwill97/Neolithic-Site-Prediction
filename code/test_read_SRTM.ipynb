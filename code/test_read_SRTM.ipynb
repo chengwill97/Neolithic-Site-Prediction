{
 "cells": [
  {
   "cell_type": "code",
   "execution_count": 3,
   "metadata": {},
   "outputs": [
    {
     "name": "stdout",
     "output_type": "stream",
     "text": [
      "N56W005.hgt\n"
     ]
    },
    {
     "data": {
      "text/plain": [
       "1305"
      ]
     },
     "execution_count": 3,
     "metadata": {},
     "output_type": "execute_result"
    }
   ],
   "source": [
    "import os\n",
    "from srtm import get_elevation as elevation\n",
    "folder = os.path.join(os.getcwd(), 'britain-srtm-30m')\n",
    "\n",
    "# folder = '/Users/WillC/Downloads'\n",
    "\n",
    "lon=56.797\n",
    "lat=-5.000\n",
    "elevation(lat,lon, folder)"
   ]
  },
  {
   "cell_type": "code",
   "execution_count": null,
   "metadata": {
    "collapsed": true
   },
   "outputs": [],
   "source": []
  }
 ],
 "metadata": {
  "kernelspec": {
   "display_name": "Python 2",
   "language": "python",
   "name": "python2"
  },
  "language_info": {
   "codemirror_mode": {
    "name": "ipython",
    "version": 2
   },
   "file_extension": ".py",
   "mimetype": "text/x-python",
   "name": "python",
   "nbconvert_exporter": "python",
   "pygments_lexer": "ipython2",
   "version": "2.7.13"
  }
 },
 "nbformat": 4,
 "nbformat_minor": 2
}
