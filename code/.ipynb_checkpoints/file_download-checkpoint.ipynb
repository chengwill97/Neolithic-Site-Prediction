{
 "cells": [
  {
   "cell_type": "code",
   "execution_count": 2,
   "metadata": {
    "collapsed": true
   },
   "outputs": [],
   "source": [
    "import os\n",
    "import urllib\n",
    "\n",
    "_FOLDER = 'britain-srtm'\n",
    "_PATH   = os.path.join(os.getcwd(), _FOLDER)"
   ]
  },
  {
   "cell_type": "code",
   "execution_count": 7,
   "metadata": {},
   "outputs": [
    {
     "name": "stdout",
     "output_type": "stream",
     "text": [
      "http://e4ftl01.cr.usgs.gov//MODV6_Dal_D/SRTM/SRTMGL3.003/2000.02.11/N48W006.SRTMGL3.hgt.zip\n",
      " : /Users/WillC/Documents/Rutgers/3rd_Year/Spring_Semester/intro-data-science/neolithic_prediction_modeling/code/britain-srtm/N48W006.SRTMGL3.hgt.zip\n",
      "\n",
      "Enter username for Please enter your Earthdata Login credentials. If you do not have a Earthdata Login, create one at https://urs.earthdata.nasa.gov//users/new at urs.earthdata.nasa.gov: chengwill97\n",
      "Enter password for chengwill97 in Please enter your Earthdata Login credentials. If you do not have a Earthdata Login, create one at https://urs.earthdata.nasa.gov//users/new at urs.earthdata.nasa.gov: ········\n"
     ]
    }
   ],
   "source": [
    "for filename in os.listdir(_PATH):\n",
    "    filepath = os.path.join(_PATH, filename)\n",
    "    file = open(filepath, \"r\")\n",
    "    for link in file.readlines():\n",
    "        downloadname = link.split('/')[-1]\n",
    "        downloadname = os.path.join(_PATH, downloadname)\n",
    "        print '%s : %s' % (link, downloadname)\n",
    "        urllib.urlretrieve(link ,downloadname)\n",
    "        break\n",
    "    break"
   ]
  },
  {
   "cell_type": "code",
   "execution_count": null,
   "metadata": {
    "collapsed": true
   },
   "outputs": [],
   "source": []
  }
 ],
 "metadata": {
  "kernelspec": {
   "display_name": "Python 2",
   "language": "python",
   "name": "python2"
  },
  "language_info": {
   "codemirror_mode": {
    "name": "ipython",
    "version": 2
   },
   "file_extension": ".py",
   "mimetype": "text/x-python",
   "name": "python",
   "nbconvert_exporter": "python",
   "pygments_lexer": "ipython2",
   "version": "2.7.13"
  }
 },
 "nbformat": 4,
 "nbformat_minor": 2
}
