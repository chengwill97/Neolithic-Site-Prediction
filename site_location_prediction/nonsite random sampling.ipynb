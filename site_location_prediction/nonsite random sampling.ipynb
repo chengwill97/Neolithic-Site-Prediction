{
 "cells": [
  {
   "cell_type": "code",
   "execution_count": null,
   "metadata": {},
   "outputs": [],
   "source": []
  },
  {
   "cell_type": "code",
   "execution_count": null,
   "metadata": {},
   "outputs": [],
   "source": [
    "import pandas as pd\n",
    "from pandas import DataFrame\n",
    "\n",
    "import random\n",
    "\n",
    "import matplotlib.pyplot as plt\n",
    "%matplotlib inline\n",
    "\n",
    "import pprint\n",
    "pp = pprint.PrettyPrinter(indent=4).pprint\n",
    "\n",
    "site_df = pd.read_csv('common_sites_V3.csv')\n",
    "ireland_df = pd.read_csv('ireland_sites_V3.csv')\n",
    "\n",
    "rand_sites = random.sample(xrange(len(ireland_df)), len(site_df))\n",
    "plt.scatter(xrange(len(site_df)),rand_sites)\n",
    "\n",
    "rand_sites_sorted = list(reversed(sorted(rand_sites)))\n",
    "\n",
    "# nonsite_df = ireland_df.iloc[rand_sites_sorted]\n",
    "# less_ireland_df = ireland_df.drop(rand_sites_sorted, axis=0)\n"
   ]
  },
  {
   "cell_type": "code",
   "execution_count": 2,
   "metadata": {},
   "outputs": [
    {
     "name": "stdout",
     "output_type": "stream",
     "text": [
      "Overwriting randomSiteSampling.py\n"
     ]
    }
   ],
   "source": [
    "%%writefile randomSiteSampling.py\n",
    "import pandas as pd\n",
    "import random\n",
    "\n",
    "# Seed used for reproducibility\n",
    "random.seed(42)\n",
    "\n",
    "def randomSamplingFromDF(site_df, pred_df):\n",
    "    \"\"\"Obtain random samples from pred_df and call them\n",
    "    samples that do not have neolithic sites in them\n",
    "    \n",
    "    Parameters\n",
    "    ----------\n",
    "        site_df : pandas.DataFrame\n",
    "            dataframe of the common sites\n",
    "\n",
    "        pred_df : pandas.DataFrame\n",
    "            dataframe of the coordinates that will be used\n",
    "            to predict whether a site exists at that\n",
    "            coordinate or not\n",
    "    \"\"\"\n",
    "    # sample len(site_df) number points from pred_df\n",
    "    rand_sites = random.sample(xrange(len(pred_df)), len(site_df))\n",
    "    rand_sites_sorted = list(reversed(sorted(rand_sites)))\n",
    "\n",
    "    nonsite_df = pred_df.iloc[rand_sites_sorted]\n",
    "    less_pred_df = pred_df.drop(rand_sites_sorted, axis=0)\n",
    "    \n",
    "    return (nonsite_df, less_pred_df)\n",
    "\n",
    "def randomSamplingFromCSV(site_file, pred_file):\n",
    "    \"\"\"Obtain random samples from pred_df and call them\n",
    "    samples that do not have neolithic sites in them\n",
    "    \n",
    "    Parameters\n",
    "    ----------\n",
    "        site_file : str\n",
    "            string of the common sites csv\n",
    "\n",
    "        pred_file : str\n",
    "            string of the coordinates csv that \n",
    "            will be used to predict whether a\n",
    "            site exists at that coordinate or not\n",
    "    \"\"\"\n",
    "    site_df = pd.read_csv(site_file)\n",
    "    pred_df = pd.read_csv(pred_file)\n",
    "\n",
    "    # sample len(site_df) number points from pred_df\n",
    "    rand_sites = random.sample(xrange(len(pred_df)), len(site_df))\n",
    "    rand_sites_sorted = list(reversed(sorted(rand_sites)))\n",
    "\n",
    "    nonsite_df = pred_df.iloc[rand_sites_sorted]\n",
    "    less_pred_df = pred_df.drop(rand_sites_sorted, axis=0)\n",
    "    \n",
    "    return (nonsite_df, less_pred_df)\n"
   ]
  },
  {
   "cell_type": "code",
   "execution_count": null,
   "metadata": {},
   "outputs": [],
   "source": [
    "site_file = 'common_sites_V3.csv'\n",
    "pred_file = 'ireland_sites_V3.csv'\n",
    "nonsite_df, pred_df = randomSamplingFromCSV(*(site_file, pred_file))"
   ]
  },
  {
   "cell_type": "code",
   "execution_count": null,
   "metadata": {},
   "outputs": [],
   "source": []
  }
 ],
 "metadata": {
  "kernelspec": {
   "display_name": "Python [conda env:miniconda2]",
   "language": "python",
   "name": "conda-env-miniconda2-py"
  },
  "language_info": {
   "codemirror_mode": {
    "name": "ipython",
    "version": 2
   },
   "file_extension": ".py",
   "mimetype": "text/x-python",
   "name": "python",
   "nbconvert_exporter": "python",
   "pygments_lexer": "ipython2",
   "version": "2.7.14"
  }
 },
 "nbformat": 4,
 "nbformat_minor": 2
}
