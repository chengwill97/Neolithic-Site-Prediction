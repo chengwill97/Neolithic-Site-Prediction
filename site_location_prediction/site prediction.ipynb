{
 "cells": [
  {
   "cell_type": "markdown",
   "metadata": {},
   "source": [
    "## Import data on site, nonsite, and prediction csvs\n",
    "may need to drop a few columns"
   ]
  },
  {
   "cell_type": "code",
   "execution_count": 1,
   "metadata": {},
   "outputs": [],
   "source": [
    "from randomSiteSampling import randomSamplingFromDF\n",
    "from randomSiteSampling import randomSamplingFromCSV\n",
    "\n",
    "from plotPredicted import plotPredictedFromDF\n",
    "from plotPredicted import plotPredictedFromCSV"
   ]
  },
  {
   "cell_type": "code",
   "execution_count": 2,
   "metadata": {},
   "outputs": [],
   "source": [
    "import numpy as np\n",
    "import pandas as pd\n",
    "import sklearn as ml\n",
    "import matplotlib\n",
    "%matplotlib inline\n",
    "\n",
    "import pprint\n",
    "pp = pprint.PrettyPrinter(indent=4).pprint\n",
    "\n",
    "\"\"\"\n",
    "Importing data\n",
    "\"\"\"\n",
    "raw_site_file = 'common_sites_V3.csv'\n",
    "raw_pred_file = 'ireland_sites_V3.csv'\n",
    "\n",
    "raw_site_df = pd.read_csv(raw_site_file, low_memory=False, error_bad_lines=False, encoding='ISO-8859-1')\n",
    "raw_pred_df = pd.read_csv(raw_pred_file, low_memory=False, error_bad_lines=False, encoding='ISO-8859-1')\n",
    "\n",
    "site_df = raw_site_df.copy()\n",
    "nonsite_df, pred_df = randomSamplingFromDF(raw_site_df, raw_pred_df)\n",
    "\n",
    "ireland_site_df = site_df.where(site_df['country'] == 'Ireland')\n",
    "\n",
    "\"\"\"\n",
    "Making sure all dataframes have the same columns\n",
    "We do this by finding all the columns which are\n",
    "not shared between all dataframes. We then keep\n",
    "only the columns common to all the dataframes\n",
    "\"\"\"\n",
    "site_attr = set(site_df)\n",
    "nonsite_attr = set(nonsite_df)\n",
    "pred_attr = set(pred_df)\n",
    "\n",
    "common_attr = site_attr & nonsite_attr & pred_attr\n",
    "uncommon_attr = (site_attr | nonsite_attr | pred_attr) - common_attr\n",
    "\n",
    "drop_site = site_attr & uncommon_attr\n",
    "drop_nonsite = nonsite_attr & uncommon_attr\n",
    "drop_pred = pred_attr & uncommon_attr\n",
    "\n",
    "# drop columns\n",
    "site_df = site_df.drop(columns=drop_site)\n",
    "nonsite_df = nonsite_df.drop(columns=drop_nonsite)\n",
    "pred_df = pred_df.drop(columns=drop_pred)\n",
    "\n",
    "\"\"\"\n",
    "Take care of na values by propogating values forward then backward\n",
    "\"\"\"\n",
    "site_df = site_df.fillna(method='ffill').fillna(method='bfill')\n",
    "nonsite_df = nonsite_df.fillna(method='ffill').fillna(method='bfill')\n",
    "pred_df = pred_df.fillna(method='ffill').fillna(method='bfill')"
   ]
  },
  {
   "cell_type": "markdown",
   "metadata": {},
   "source": [
    "# Combining our site and nonsite data"
   ]
  },
  {
   "cell_type": "code",
   "execution_count": 3,
   "metadata": {},
   "outputs": [],
   "source": [
    "site_df['site'] = 1\n",
    "nonsite_df['site'] = 0\n",
    "data = pd.concat([site_df, nonsite_df])\n",
    "\n",
    "target = data['site']\n",
    "data = data.drop(columns=['site'])"
   ]
  },
  {
   "cell_type": "markdown",
   "metadata": {},
   "source": [
    "# Splitting the Data into Training and Test Sets"
   ]
  },
  {
   "cell_type": "code",
   "execution_count": 4,
   "metadata": {},
   "outputs": [
    {
     "name": "stderr",
     "output_type": "stream",
     "text": [
      "/Users/WillC/miniconda2/envs/ML/lib/python2.7/site-packages/sklearn/model_selection/_split.py:2026: FutureWarning: From version 0.21, test_size will always complement train_size unless both are specified.\n",
      "  FutureWarning)\n"
     ]
    }
   ],
   "source": [
    "from sklearn.model_selection import train_test_split\n",
    "\n",
    "train_size=0.7\n",
    "\n",
    "train_data, test_data, train_target, test_target = train_test_split(data, target, train_size=train_size)"
   ]
  },
  {
   "cell_type": "markdown",
   "metadata": {},
   "source": [
    "# Train using Different Models\n",
    "\n",
    "### 1. Linear SVC Model"
   ]
  },
  {
   "cell_type": "markdown",
   "metadata": {},
   "source": [
    "## The 'predictions' dataframe will be used  to store the results of the following training models"
   ]
  },
  {
   "cell_type": "code",
   "execution_count": 5,
   "metadata": {},
   "outputs": [],
   "source": [
    "predictions = pred_df.copy(deep=True)"
   ]
  },
  {
   "cell_type": "markdown",
   "metadata": {},
   "source": [
    "# 1. Training the Linear SVC Model"
   ]
  },
  {
   "cell_type": "code",
   "execution_count": 6,
   "metadata": {},
   "outputs": [
    {
     "data": {
      "text/plain": [
       "SVC(C=1.0, cache_size=200, class_weight=None, coef0=0.0,\n",
       "  decision_function_shape='ovr', degree=3, gamma='auto', kernel='linear',\n",
       "  max_iter=-1, probability=False, random_state=None, shrinking=True,\n",
       "  tol=0.001, verbose=False)"
      ]
     },
     "execution_count": 6,
     "metadata": {},
     "output_type": "execute_result"
    }
   ],
   "source": [
    "from sklearn import svm\n",
    "\n",
    "SVCModel = svm.SVC(kernel='linear', C=1.0)\n",
    "SVCModel.fit(train_data, train_target)"
   ]
  },
  {
   "cell_type": "markdown",
   "metadata": {},
   "source": [
    "## Testing the Linear SVC Model"
   ]
  },
  {
   "cell_type": "code",
   "execution_count": 7,
   "metadata": {},
   "outputs": [
    {
     "name": "stdout",
     "output_type": "stream",
     "text": [
      "Training Data\n",
      "accuracy:   0.863123236124\n",
      "precision:  0.96004842615\n",
      "recall:     0.754519505233\n",
      "f1:         0.844965370272\n",
      "\n",
      "\n",
      "Test Data\n",
      "accuracy:   0.825657894737\n",
      "precision:  0.950437317784\n",
      "recall:     0.696581196581\n",
      "f1:         0.803945745993\n"
     ]
    }
   ],
   "source": [
    "from sklearn import metrics\n",
    "\n",
    "model = SVCModel\n",
    "\"\"\"\n",
    "Fit the training data\n",
    "and observe the metrics\n",
    "\"\"\"\n",
    "preds = model.predict(train_data)\n",
    "targs = train_target\n",
    "args = (targs, preds)\n",
    "print \"Training Data\"\n",
    "print \"accuracy:  \", metrics.accuracy_score(*args)\n",
    "print \"precision: \", metrics.precision_score(*args)\n",
    "print \"recall:    \", metrics.recall_score(*args)\n",
    "print \"f1:        \", metrics.f1_score(*args)\n",
    "# print(\"area under curve (auc): \", metrics.roc_auc_score(*args))\n",
    "\n",
    "\n",
    "\"\"\"\n",
    "Fit the test data\n",
    "and observe the metrics\n",
    "\"\"\"\n",
    "preds = model.predict(test_data)\n",
    "targs = test_target\n",
    "args = (targs, preds)\n",
    "print \"\\n\"\n",
    "print \"Test Data\"\n",
    "print \"accuracy:  \", metrics.accuracy_score(*args)\n",
    "print \"precision: \", metrics.precision_score(*args)\n",
    "print \"recall:    \", metrics.recall_score(*args)\n",
    "print \"f1:        \", metrics.f1_score(*args)\n",
    "# print(\"area under curve (auc): \", metrics.roc_auc_score(*args))"
   ]
  },
  {
   "cell_type": "markdown",
   "metadata": {},
   "source": [
    "## Linear SVC Prediction"
   ]
  },
  {
   "cell_type": "code",
   "execution_count": 10,
   "metadata": {},
   "outputs": [
    {
     "name": "stdout",
     "output_type": "stream",
     "text": [
      "('Sites exists:     ', 22839)\n",
      "('Sites dn exists: ', 636098)\n",
      "Percentage of sites predicted having an archeological site\n",
      "('0.03466', '%')\n"
     ]
    },
    {
     "data": {
      "image/png": "[encoded data removed]",
      "text/plain": [
       "<Figure size 432x288 with 1 Axes>"
      ]
     },
     "metadata": {},
     "output_type": "display_data"
    }
   ],
   "source": [
    "model_name = 'LinearSVCPrediction'\n",
    "predictions[model_name] = SVCModel.predict(pred_df)\n",
    "\n",
    "site_exists = predictions[predictions[model_name] == 1]\n",
    "site_nexists = predictions[predictions[model_name] != 1]\n",
    "\n",
    "print('Sites exists:     ', site_exists[model_name].count())\n",
    "print('Sites dn exists: ', site_nexists[model_name].count())\n",
    "\n",
    "print('Percentage of sites predicted having an archeological site')\n",
    "print('%.5f' % (float(site_exists[model_name].count())/float(predictions[model_name].count())), '%')\n",
    "\n",
    "predictions.LinearSVCPrediction.value_counts().plot(kind='bar')  \n",
    "plotPredictedFromDF(raw_site_df, predictions, model_name=model_name)"
   ]
  },
  {
   "cell_type": "code",
   "execution_count": null,
   "metadata": {},
   "outputs": [],
   "source": []
  }
 ],
 "metadata": {
  "kernelspec": {
   "display_name": "Python [conda env:ML]",
   "language": "python",
   "name": "conda-env-ML-py"
  },
  "language_info": {
   "codemirror_mode": {
    "name": "ipython",
    "version": 2
   },
   "file_extension": ".py",
   "mimetype": "text/x-python",
   "name": "python",
   "nbconvert_exporter": "python",
   "pygments_lexer": "ipython2",
   "version": "2.7.15"
  }
 },
 "nbformat": 4,
 "nbformat_minor": 2
}
