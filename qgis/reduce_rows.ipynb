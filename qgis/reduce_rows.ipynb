{
 "cells": [
  {
   "cell_type": "code",
   "execution_count": 1,
   "metadata": {
    "collapsed": true
   },
   "outputs": [],
   "source": [
    "import os\n",
    "import csv\n",
    "import numpy  as np\n",
    "import pandas as pd\n",
    "\n",
    "import matplotlib\n",
    "matplotlib.use('nbagg')\n",
    "\n",
    "from mpl_toolkits.basemap import Basemap\n",
    "import matplotlib.pyplot as plt\n",
    "\n",
    "import pprint\n",
    "\n",
    "pp = pprint.PrettyPrinter(indent=4).pprint"
   ]
  },
  {
   "cell_type": "code",
   "execution_count": 2,
   "metadata": {},
   "outputs": [
    {
     "name": "stdout",
     "output_type": "stream",
     "text": [
      "[   'qgis_original_ne_10m_land.csv',\n",
      "    'qgis_ne_10m_rivers_europe.csv',\n",
      "    'qgis_ne_10m_lakes.csv',\n",
      "    'qgis_ne_10m_lakes_europe.csv',\n",
      "    'qgis_ne_10m_rivers_lake_centerlines.csv']\n"
     ]
    }
   ],
   "source": [
    "list_allfiles=os.listdir(os.curdir)\n",
    "\n",
    "list_qgisfiles=list()\n",
    "for f in list_allfiles:\n",
    "    if 'qgis' in f:\n",
    "        list_qgisfiles.append(f)\n",
    "        \n",
    "pp(list_qgisfiles)"
   ]
  },
  {
   "cell_type": "markdown",
   "metadata": {},
   "source": [
    "#Import the common"
   ]
  },
  {
   "cell_type": "code",
   "execution_count": 3,
   "metadata": {
    "collapsed": true
   },
   "outputs": [],
   "source": [
    "all_common_df = pd.read_csv('common_elevation_and_distances.csv')\n",
    "\n",
    "qgis_dfs = list()\n",
    "for qgis_f in list_qgisfiles:\n",
    "    qgis_df = pd.read_csv(qgis_f)\n",
    "    qgis_dfs.append(qgis_df)"
   ]
  },
  {
   "cell_type": "code",
   "execution_count": 19,
   "metadata": {},
   "outputs": [
    {
     "name": "stdout",
     "output_type": "stream",
     "text": [
      "lat[   60,    49]\n",
      "lon[    1,   -10]\n"
     ]
    }
   ],
   "source": [
    "all_common_df.head(3)\n",
    "\n",
    "common_df = all_common_df.where((all_common_df['Country']=='Ireland') | (all_common_df['Country']=='Great Britain'))\n",
    "\n",
    "max_lat=common_df['Latitude'].max()\n",
    "min_lat=common_df['Latitude'].min()\n",
    "\n",
    "max_lon=common_df['Longitude'].max()\n",
    "min_lon=common_df['Longitude'].min()\n",
    "\n",
    "print 'lat[%5d, %5d]' % (max_lat, min_lat)\n",
    "print 'lon[%5d, %5d]' % (max_lon, min_lon)"
   ]
  },
  {
   "cell_type": "code",
   "execution_count": 41,
   "metadata": {
    "scrolled": false
   },
   "outputs": [
    {
     "name": "stdout",
     "output_type": "stream",
     "text": [
      "'qgis_original_ne_10m_land.csv'\n",
      "original len 411137\n",
      "max_lat 83\n",
      "min_lat -90\n",
      "   row_id    xcoord    ycoord\n",
      "0       0 -45.34996 -78.69329\n",
      "1       1 -45.22460 -78.73561\n",
      "2       2 -45.37047 -78.78607\n",
      "3       3 -45.29817 -78.81072\n",
      "4       4 -45.21898 -78.81894\n",
      "filtered len 54887\n",
      "max_lat 60\n",
      "min_lat 49\n",
      "        row_id    xcoord    ycoord\n",
      "59285  59285.0 -55.88402  51.61701\n",
      "59286  59286.0 -55.86807  51.61262\n",
      "59287  59287.0 -55.85387  51.61603\n",
      "59288  59288.0 -55.83934  51.62153\n",
      "59289  59289.0 -55.82258  51.62385\n",
      "filtered len 8862\n",
      "max_lat 1\n",
      "min_lat -10\n",
      "        row_id   xcoord    ycoord\n",
      "63947  63947.0 -7.12906  55.28583\n",
      "63948  63948.0 -7.07934  55.27265\n",
      "63949  63949.0 -7.04190  55.26887\n",
      "63950  63950.0 -6.99649  55.25772\n",
      "63951  63951.0 -6.97570  55.24868\n",
      "'qgis_ne_10m_rivers_europe.csv'\n",
      "original len 66636\n",
      "max_lat 70\n",
      "min_lat 27\n",
      "   row_id    xcoord    ycoord\n",
      "0       0  17.62672  60.31639\n",
      "1       1  17.64682  60.31753\n",
      "2       2  17.66188  60.31452\n",
      "3       3  17.66969  60.30581\n",
      "4       4  17.67709  60.29320\n",
      "filtered len 22928\n",
      "max_lat 60\n",
      "min_lat 49\n",
      "    row_id    xcoord    ycoord\n",
      "8      8.0  17.71656  60.22964\n",
      "9      9.0  17.71844  60.21678\n",
      "10    10.0  17.69793  60.19888\n",
      "11    11.0  17.60621  60.15347\n",
      "12    12.0  17.59278  60.13353\n",
      "filtered len 640\n",
      "max_lat 1\n",
      "min_lat -8\n",
      "      row_id   xcoord    ycoord\n",
      "4116  4116.0 -6.81509  54.05801\n",
      "4117  4117.0 -6.85570  54.05117\n",
      "4118  4118.0 -6.91950  54.05337\n",
      "4119  4119.0 -6.97179  54.04580\n",
      "4120  4120.0 -7.00402  54.04597\n",
      "'qgis_ne_10m_lakes.csv'\n",
      "original len 137459\n",
      "max_lat 81\n",
      "min_lat -50\n",
      "   row_id    xcoord    ycoord\n",
      "0       0  30.80977  38.27069\n",
      "1       1  30.86011  38.28099\n",
      "2       2  30.89308  38.27481\n",
      "3       3  30.88277  38.24037\n",
      "4       4  30.86894  38.20828\n",
      "filtered len 38744\n",
      "max_lat 60\n",
      "min_lat 49\n",
      "      row_id    xcoord    ycoord\n",
      "2982  2982.0 -96.28032  51.24096\n",
      "2983  2983.0 -96.26339  51.22242\n",
      "2984  2984.0 -96.26045  51.21712\n",
      "2985  2985.0 -96.26384  51.20475\n",
      "2986  2986.0 -96.27223  51.20269\n",
      "filtered len 314\n",
      "max_lat -4\n",
      "min_lat -8\n",
      "        row_id   xcoord    ycoord\n",
      "63196  63196.0 -6.52252  54.71593\n",
      "63197  63197.0 -6.52001  54.72888\n",
      "63198  63198.0 -6.51045  54.73948\n",
      "63199  63199.0 -6.49735  54.74654\n",
      "63200  63200.0 -6.48410  54.74772\n",
      "'qgis_ne_10m_lakes_europe.csv'\n",
      "original len 17994\n",
      "max_lat 69\n",
      "min_lat 30\n",
      "   row_id    xcoord    ycoord\n",
      "0       0  29.00978  69.38904\n",
      "1       1  29.02687  69.39936\n",
      "2       2  29.04274  69.40967\n",
      "3       3  29.05995  69.41724\n",
      "4       4  29.07936  69.41999\n",
      "filtered len 4637\n",
      "max_lat 60\n",
      "min_lat 49\n",
      "      row_id   xcoord    ycoord\n",
      "3835  3835.0  9.62733  60.22755\n",
      "3836  3836.0  9.62672  60.20447\n",
      "3837  3837.0  9.63526  60.18311\n",
      "3838  3838.0  9.65870  60.17737\n",
      "3839  3839.0  9.68995  60.17554\n",
      "filtered len 423\n",
      "max_lat -4\n",
      "min_lat -9\n",
      "      row_id   xcoord    ycoord\n",
      "5902  5902.0 -4.62511  58.14368\n",
      "5903  5903.0 -4.65435  58.15528\n",
      "5904  5904.0 -4.67626  58.15980\n",
      "5905  5905.0 -4.69506  58.16559\n",
      "5906  5906.0 -4.73034  58.17957\n",
      "'qgis_ne_10m_rivers_lake_centerlines.csv'\n",
      "original len 137459\n",
      "max_lat 81\n",
      "min_lat -50\n",
      "   row_id    xcoord    ycoord\n",
      "0       0  30.80977  38.27069\n",
      "1       1  30.86011  38.28099\n",
      "2       2  30.89308  38.27481\n",
      "3       3  30.88277  38.24037\n",
      "4       4  30.86894  38.20828\n",
      "filtered len 38744\n",
      "max_lat 60\n",
      "min_lat 49\n",
      "      row_id    xcoord    ycoord\n",
      "2982  2982.0 -96.28032  51.24096\n",
      "2983  2983.0 -96.26339  51.22242\n",
      "2984  2984.0 -96.26045  51.21712\n",
      "2985  2985.0 -96.26384  51.20475\n",
      "2986  2986.0 -96.27223  51.20269\n",
      "filtered len 314\n",
      "max_lat -4\n",
      "min_lat -8\n",
      "        row_id   xcoord    ycoord\n",
      "63196  63196.0 -6.52252  54.71593\n",
      "63197  63197.0 -6.52001  54.72888\n",
      "63198  63198.0 -6.51045  54.73948\n",
      "63199  63199.0 -6.49735  54.74654\n",
      "63200  63200.0 -6.48410  54.74772\n"
     ]
    }
   ],
   "source": [
    "for qgis_file in list_qgisfiles:    \n",
    "    pp(qgis_file)\n",
    "    \n",
    "    qgis_df = pd.read_csv(qgis_file).dropna()\n",
    "    print 'original len %d' % len(qgis_df)\n",
    "    print 'max_lat %d' % qgis_df['ycoord'].max()\n",
    "    print 'min_lat %d' % qgis_df['ycoord'].min()\n",
    "    pp(qgis_df.head(5))\n",
    "\n",
    "    qgis_lat = qgis_df.where((qgis_df['ycoord'] <= max_lat) & (qgis_df['ycoord'] >= min_lat)).dropna()\n",
    "    print 'filtered len %d' % len(qgis_lat)\n",
    "    print 'max_lat %d' % qgis_lat['ycoord'].max()\n",
    "    print 'min_lat %d' % qgis_lat['ycoord'].min()\n",
    "    print qgis_lat.head(5)\n",
    "\n",
    "    qgis_lon = qgis_lat.where((qgis_df['xcoord'] <= max_lon) & (qgis_df['xcoord'] >= min_lon)).dropna()\n",
    "    print 'filtered len %d' % len(qgis_lon)\n",
    "    print 'max_lat %d' % qgis_lon['xcoord'].max()\n",
    "    print 'min_lat %d' % qgis_lon['xcoord'].min()\n",
    "    print qgis_lon.head(5)\n",
    "    \n",
    "    qgis_lon.to_csv('reduced_'+qgis_file)\n"
   ]
  },
  {
   "cell_type": "code",
   "execution_count": null,
   "metadata": {
    "collapsed": true
   },
   "outputs": [],
   "source": []
  }
 ],
 "metadata": {
  "kernelspec": {
   "display_name": "Python 2",
   "language": "python",
   "name": "python2"
  },
  "language_info": {
   "codemirror_mode": {
    "name": "ipython",
    "version": 2
   },
   "file_extension": ".py",
   "mimetype": "text/x-python",
   "name": "python",
   "nbconvert_exporter": "python",
   "pygments_lexer": "ipython2",
   "version": "2.7.13"
  }
 },
 "nbformat": 4,
 "nbformat_minor": 2
}
