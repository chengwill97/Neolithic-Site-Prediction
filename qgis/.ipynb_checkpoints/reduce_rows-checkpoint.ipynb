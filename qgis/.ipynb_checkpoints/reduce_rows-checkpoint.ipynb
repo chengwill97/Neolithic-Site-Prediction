{
 "cells": [
  {
   "cell_type": "code",
   "execution_count": 1,
   "metadata": {
    "collapsed": true
   },
   "outputs": [],
   "source": [
    "import os\n",
    "import csv\n",
    "import numpy  as np\n",
    "import pandas as pd\n",
    "\n",
    "import matplotlib\n",
    "matplotlib.use('nbagg')\n",
    "\n",
    "from mpl_toolkits.basemap import Basemap\n",
    "import matplotlib.pyplot as plt\n",
    "\n",
    "import pprint\n",
    "\n",
    "pp = pprint.PrettyPrinter(indent=4).pprint"
   ]
  },
  {
   "cell_type": "code",
   "execution_count": 2,
   "metadata": {},
   "outputs": [
    {
     "name": "stdout",
     "output_type": "stream",
     "text": [
      "[   'qgis_original_ne_10m_land.csv',\n",
      "    'qgis_ne_10m_rivers_europe.csv',\n",
      "    'qgis_ne_10m_lakes.csv',\n",
      "    'qgis_ne_10m_lakes_europe.csv',\n",
      "    'qgis_ne_10m_rivers_lake_centerlines.csv']\n"
     ]
    }
   ],
   "source": [
    "list_allfiles=os.listdir(os.curdir)\n",
    "\n",
    "list_qgisfiles=list()\n",
    "for f in list_allfiles:\n",
    "    if 'qgis' in f:\n",
    "        list_qgisfiles.append(f)\n",
    "        \n",
    "pp(list_qgisfiles)"
   ]
  },
  {
   "cell_type": "markdown",
   "metadata": {},
   "source": [
    "#Import the common"
   ]
  },
  {
   "cell_type": "code",
   "execution_count": 3,
   "metadata": {
    "collapsed": true
   },
   "outputs": [],
   "source": [
    "all_common_df = pd.read_csv('common_elevation_and_distances.csv')\n",
    "\n",
    "qgis_dfs = list()\n",
    "for qgis_f in list_qgisfiles:\n",
    "    qgis_df = pd.read_csv(qgis_f)\n",
    "    qgis_dfs.append(qgis_df)"
   ]
  },
  {
   "cell_type": "code",
   "execution_count": 19,
   "metadata": {},
   "outputs": [
    {
     "name": "stdout",
     "output_type": "stream",
     "text": [
      "lat[   60,    49]\n",
      "lon[    1,   -10]\n"
     ]
    }
   ],
   "source": [
    "all_common_df.head(3)\n",
    "\n",
    "common_df = all_common_df.where((all_common_df['Country']=='Ireland') | (all_common_df['Country']=='Great Britain'))\n",
    "\n",
    "max_lat=common_df['Latitude'].max()\n",
    "min_lat=common_df['Latitude'].min()\n",
    "\n",
    "max_lon=common_df['Longitude'].max()\n",
    "min_lon=common_df['Longitude'].min()\n",
    "\n",
    "print 'lat[%5d, %5d]' % (max_lat, min_lat)\n",
    "print 'lon[%5d, %5d]' % (max_lon, min_lon)"
   ]
  },
  {
   "cell_type": "code",
   "execution_count": 32,
   "metadata": {},
   "outputs": [
    {
     "name": "stdout",
     "output_type": "stream",
     "text": [
      "original len 411137\n",
      "max_lat 83\n",
      "min_lat -90\n",
      "   row_id    xcoord    ycoord\n",
      "0       0 -45.34996 -78.69329\n",
      "1       1 -45.22460 -78.73561\n",
      "2       2 -45.37047 -78.78607\n",
      "3       3 -45.29817 -78.81072\n",
      "4       4 -45.21898 -78.81894\n",
      "filtered len 54887\n",
      "max_lat 60\n",
      "min_lat 49\n",
      "        row_id    xcoord    ycoord\n",
      "59285  59285.0 -55.88402  51.61701\n",
      "59286  59286.0 -55.86807  51.61262\n",
      "59287  59287.0 -55.85387  51.61603\n",
      "59288  59288.0 -55.83934  51.62153\n",
      "59289  59289.0 -55.82258  51.62385\n",
      "filtered len 14990\n",
      "max_lat 1\n",
      "min_lat -10\n",
      "      row_id    xcoord    ycoord\n",
      "4264  4264.0 -10.34834 -71.23919\n",
      "4265  4265.0 -10.10106 -71.18108\n",
      "4266  4266.0 -10.03685 -71.15545\n",
      "4267  4267.0  -9.98876 -71.11932\n",
      "4268  4268.0 -10.03307 -71.08587\n"
     ]
    }
   ],
   "source": [
    "qgis_df = pd.read_csv(list_qgisfiles[0]).dropna()\n",
    "print 'original len %d' % len(qgis_df)\n",
    "print 'max_lat %d' % qgis_df['ycoord'].max()\n",
    "print 'min_lat %d' % qgis_df['ycoord'].min()\n",
    "pp(qgis_df.head(5))\n",
    "\n",
    "qgis_lat = qgis_df.where((qgis_df['ycoord'] <= max_lat) & (qgis_df['ycoord'] >= min_lat)).dropna()\n",
    "print 'filtered len %d' % len(qgis_lat)\n",
    "print 'max_lat %d' % qgis_lat['ycoord'].max()\n",
    "print 'min_lat %d' % qgis_lat['ycoord'].min()\n",
    "print qgis_lat.head(5)\n",
    "\n",
    "qgis_lon = qgis_df.where((qgis_df['xcoord'] <= max_lon) & (qgis_df['xcoord'] >= min_lon)).dropna()\n",
    "print 'filtered len %d' % len(qgis_lon)\n",
    "print 'max_lat %d' % qgis_lon['xcoord'].max()\n",
    "print 'min_lat %d' % qgis_lon['xcoord'].min()\n",
    "print qgis_lon.head(5)\n"
   ]
  },
  {
   "cell_type": "code",
   "execution_count": null,
   "metadata": {
    "collapsed": true
   },
   "outputs": [],
   "source": []
  }
 ],
 "metadata": {
  "kernelspec": {
   "display_name": "Python 2",
   "language": "python",
   "name": "python2"
  },
  "language_info": {
   "codemirror_mode": {
    "name": "ipython",
    "version": 2
   },
   "file_extension": ".py",
   "mimetype": "text/x-python",
   "name": "python",
   "nbconvert_exporter": "python",
   "pygments_lexer": "ipython2",
   "version": "2.7.13"
  }
 },
 "nbformat": 4,
 "nbformat_minor": 2
}
