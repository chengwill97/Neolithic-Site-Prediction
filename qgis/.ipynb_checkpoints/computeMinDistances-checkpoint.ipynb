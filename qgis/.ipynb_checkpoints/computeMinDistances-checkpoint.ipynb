{
 "cells": [
  {
   "cell_type": "code",
   "execution_count": 2,
   "metadata": {
    "collapsed": true
   },
   "outputs": [],
   "source": [
    "import os\n",
    "import csv\n",
    "import numpy  as np\n",
    "import pandas as pd\n",
    "\n",
    "import matplotlib\n",
    "matplotlib.use('nbagg')\n",
    "\n",
    "from mpl_toolkits.basemap import Basemap\n",
    "import matplotlib.pyplot as plt\n",
    "\n",
    "import pprint\n",
    "pp = pprint.PrettyPrinter(indent=4).pprint"
   ]
  },
  {
   "cell_type": "code",
   "execution_count": 5,
   "metadata": {},
   "outputs": [
    {
     "data": {
      "text/plain": [
       "['.DS_Store',\n",
       " '.ipynb_checkpoints',\n",
       " 'DISTANCEMATRIX_reduced_qgis_ne_10m_lakes.csv',\n",
       " 'DISTANCEMATRIX_reduced_qgis_ne_10m_lakes_europe.csv',\n",
       " 'DISTANCEMATRIX_reduced_qgis_ne_10m_rivers_europe.csv',\n",
       " 'DISTANCEMATRIX_reduced_qgis_ne_10m_rivers_lake_centerlines.csv',\n",
       " 'DISTANCEMATRIX_reduced_qgis_original_ne_10m_land.csv',\n",
       " 'Icon\\r',\n",
       " 'add_rowID.ipynb',\n",
       " 'common_elevation.csv',\n",
       " 'common_elevation_and_distances.csv',\n",
       " 'computeMinDistances.ipynb',\n",
       " 'heatmap_plotting.ipynb',\n",
       " 'ireland_elevations.csv',\n",
       " 'ireland_elevations_and_distances.csv',\n",
       " 'ireland_elevations_and_mindistances.csv',\n",
       " 'ne_10m_geography_regions_elevation_points',\n",
       " 'ne_10m_geography_regions_points',\n",
       " 'ne_10m_geography_regions_polys',\n",
       " 'ne_10m_lakes',\n",
       " 'ne_10m_lakes_europe',\n",
       " 'ne_10m_lakes_historic',\n",
       " 'ne_10m_land',\n",
       " 'ne_10m_rivers_europe',\n",
       " 'ne_10m_rivers_lake_centerlines',\n",
       " 'ne_110m_land',\n",
       " 'nodes_ne_10m_lakes.csv',\n",
       " 'nodes_ne_10m_lakes_europe.csv',\n",
       " 'nodes_ne_10m_rivers_europe.csv',\n",
       " 'nodes_ne_10m_rivers_lake_centerlines.csv',\n",
       " 'qgis_ne_10m_lakes.csv',\n",
       " 'qgis_ne_10m_lakes_europe.csv',\n",
       " 'qgis_ne_10m_rivers_europe.csv',\n",
       " 'qgis_ne_10m_rivers_lake_centerlines.csv',\n",
       " 'qgis_original_ne_10m_land.csv',\n",
       " 'reduce_rows.ipynb',\n",
       " 'reduced_qgis_ne_10m_lakes.csv',\n",
       " 'reduced_qgis_ne_10m_lakes_europe.csv',\n",
       " 'reduced_qgis_ne_10m_rivers_europe.csv',\n",
       " 'reduced_qgis_ne_10m_rivers_lake_centerlines.csv',\n",
       " 'reduced_qgis_original_ne_10m_land.csv']"
      ]
     },
     "execution_count": 5,
     "metadata": {},
     "output_type": "execute_result"
    }
   ],
   "source": [
    "sorted(os.listdir(os.curdir))"
   ]
  },
  {
   "cell_type": "code",
   "execution_count": 13,
   "metadata": {},
   "outputs": [],
   "source": [
    "filename = 'common_elevation_and_distances.csv'\n",
    "# filename = 'ireland_elevations_and_distances.csv'\n",
    "\n",
    "df = pd.read_csv(filename)\n",
    "\n",
    "header = list(df)"
   ]
  },
  {
   "cell_type": "code",
   "execution_count": 14,
   "metadata": {},
   "outputs": [
    {
     "name": "stdout",
     "output_type": "stream",
     "text": [
      "[   'Country',\n",
      "    'Latitude',\n",
      "    'Longitude',\n",
      "    'SiteID',\n",
      "    'Elevation',\n",
      "    'SiteName',\n",
      "    'distance_lakes_europeDistance',\n",
      "    'distance_lakesDistance',\n",
      "    'distance_rivers_europeDistance',\n",
      "    'distance_rivers_lake_centerlinesDistance',\n",
      "    'distance_landDistance']\n",
      "['Elevation', 'distance_landDistance']\n",
      "['SiteName', 'distance_lakes_europeDistance']\n"
     ]
    }
   ],
   "source": [
    "pp(header)\n",
    "\n",
    "lakes=['distance_lakes_europeDistance', 'distance_lakesDistance']\n",
    "pp(lakes)\n",
    "\n",
    "rivers=[header[5], header[6]]\n",
    "pp(rivers)"
   ]
  },
  {
   "cell_type": "code",
   "execution_count": 11,
   "metadata": {},
   "outputs": [
    {
     "name": "stdout",
     "output_type": "stream",
     "text": [
      "1522\n",
      "         Country  Latitude  Longitude SiteID\n",
      "0  Great Britain   51.9691    -5.0823  S1010\n",
      "1  Great Britain   51.6800    -1.2613  S1011\n"
     ]
    }
   ],
   "source": [
    "base_df = df[header[:4]]\n",
    "pp(len(base_df))\n",
    "pp(base_df.head(2))"
   ]
  },
  {
   "cell_type": "code",
   "execution_count": 12,
   "metadata": {},
   "outputs": [
    {
     "name": "stdout",
     "output_type": "stream",
     "text": [
      "   Elevation  distance_landDistance\n",
      "0        204               0.008991\n",
      "1        124               0.788970\n",
      "         Country  Latitude  Longitude SiteID  min_lakes_distance\n",
      "0  Great Britain   51.9691    -5.0823  S1010            0.008991\n",
      "1  Great Britain   51.6800    -1.2613  S1011            0.788970\n"
     ]
    },
    {
     "name": "stderr",
     "output_type": "stream",
     "text": [
      "/Library/Frameworks/Python.framework/Versions/2.7/lib/python2.7/site-packages/ipykernel_launcher.py:4: SettingWithCopyWarning: \n",
      "A value is trying to be set on a copy of a slice from a DataFrame.\n",
      "Try using .loc[row_indexer,col_indexer] = value instead\n",
      "\n",
      "See the caveats in the documentation: http://pandas.pydata.org/pandas-docs/stable/indexing.html#indexing-view-versus-copy\n",
      "  after removing the cwd from sys.path.\n"
     ]
    }
   ],
   "source": [
    "lakes_df = df[lakes]\n",
    "pp(lakes_df.head(2))\n",
    "\n",
    "base_df['min_lakes_distance'] = lakes_df.min(axis=1)\n",
    "pp(base_df.head(2))"
   ]
  },
  {
   "cell_type": "code",
   "execution_count": 59,
   "metadata": {},
   "outputs": [
    {
     "name": "stdout",
     "output_type": "stream",
     "text": [
      "   ne_10m_rivers_europeDistance  ne_10m_rivers_lake_centerlinesDistance\n",
      "0                      2.651073                                2.335202\n",
      "1                      2.647034                                2.331527\n",
      "   id  Latitude  Longitude  Elevation  min_lakes_distance  min_rivers_distance\n",
      "0   0   51.7706   -10.5418        131            0.991290             2.335202\n",
      "1   1   51.7706   -10.5376          4            0.987288             2.331527\n"
     ]
    },
    {
     "name": "stderr",
     "output_type": "stream",
     "text": [
      "/Library/Frameworks/Python.framework/Versions/2.7/lib/python2.7/site-packages/ipykernel_launcher.py:4: SettingWithCopyWarning: \n",
      "A value is trying to be set on a copy of a slice from a DataFrame.\n",
      "Try using .loc[row_indexer,col_indexer] = value instead\n",
      "\n",
      "See the caveats in the documentation: http://pandas.pydata.org/pandas-docs/stable/indexing.html#indexing-view-versus-copy\n",
      "  after removing the cwd from sys.path.\n"
     ]
    }
   ],
   "source": [
    "rivers_df = df[rivers]\n",
    "pp(rivers_df.head(2))\n",
    "\n",
    "base_df['min_rivers_distance'] = rivers_df.min(axis=1)\n",
    "pp(base_df.head(2))"
   ]
  },
  {
   "cell_type": "code",
   "execution_count": 60,
   "metadata": {},
   "outputs": [
    {
     "name": "stdout",
     "output_type": "stream",
     "text": [
      "   id  Latitude  Longitude  Elevation  min_lakes_distance  \\\n",
      "0   0   51.7706   -10.5418        131            0.991290   \n",
      "1   1   51.7706   -10.5376          4            0.987288   \n",
      "\n",
      "   min_rivers_distance  min_borders_distance  \n",
      "0             2.335202              0.160865  \n",
      "1             2.331527              0.157869  \n"
     ]
    },
    {
     "name": "stderr",
     "output_type": "stream",
     "text": [
      "/Library/Frameworks/Python.framework/Versions/2.7/lib/python2.7/site-packages/ipykernel_launcher.py:1: SettingWithCopyWarning: \n",
      "A value is trying to be set on a copy of a slice from a DataFrame.\n",
      "Try using .loc[row_indexer,col_indexer] = value instead\n",
      "\n",
      "See the caveats in the documentation: http://pandas.pydata.org/pandas-docs/stable/indexing.html#indexing-view-versus-copy\n",
      "  \"\"\"Entry point for launching an IPython kernel.\n"
     ]
    }
   ],
   "source": [
    "base_df['min_borders_distance'] = df['ne_10m_landDistance']\n",
    "pp(base_df.head(2))"
   ]
  },
  {
   "cell_type": "code",
   "execution_count": 61,
   "metadata": {},
   "outputs": [
    {
     "name": "stdout",
     "output_type": "stream",
     "text": [
      "   id  Latitude  Longitude  Elevation  min_lakes_distance  \\\n",
      "0   0   51.7706   -10.5418        131            0.991290   \n",
      "1   1   51.7706   -10.5376          4            0.987288   \n",
      "\n",
      "   min_rivers_distance  min_borders_distance  \n",
      "0             2.335202              0.160865  \n",
      "1             2.331527              0.157869  \n"
     ]
    }
   ],
   "source": [
    "pp(base_df.head(2))"
   ]
  },
  {
   "cell_type": "code",
   "execution_count": 64,
   "metadata": {
    "collapsed": true
   },
   "outputs": [],
   "source": [
    "base_df.to_csv('ireland_elevations_and_mindistances.csv')"
   ]
  },
  {
   "cell_type": "code",
   "execution_count": null,
   "metadata": {
    "collapsed": true
   },
   "outputs": [],
   "source": []
  }
 ],
 "metadata": {
  "kernelspec": {
   "display_name": "Python 2",
   "language": "python",
   "name": "python2"
  },
  "language_info": {
   "codemirror_mode": {
    "name": "ipython",
    "version": 2
   },
   "file_extension": ".py",
   "mimetype": "text/x-python",
   "name": "python",
   "nbconvert_exporter": "python",
   "pygments_lexer": "ipython2",
   "version": "2.7.13"
  }
 },
 "nbformat": 4,
 "nbformat_minor": 2
}
