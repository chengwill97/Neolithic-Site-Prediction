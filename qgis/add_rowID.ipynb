{
 "cells": [
  {
   "cell_type": "code",
   "execution_count": 12,
   "metadata": {},
   "outputs": [],
   "source": [
    "import pandas as pd\n",
    "import os"
   ]
  },
  {
   "cell_type": "code",
   "execution_count": 2,
   "metadata": {},
   "outputs": [
    {
     "name": "stdout",
     "output_type": "stream",
     "text": [
      "Icon?\r\n",
      "add_rowID.ipynb\r\n",
      "common_elevation.csv\r\n",
      "ireland_elevations.csv\r\n",
      "\u001b[34mne_10m_geography_regions_elevation_points\u001b[m\u001b[m/\r\n",
      "\u001b[34mne_10m_geography_regions_points\u001b[m\u001b[m/\r\n",
      "\u001b[34mne_10m_geography_regions_polys\u001b[m\u001b[m/\r\n",
      "\u001b[34mne_10m_lakes\u001b[m\u001b[m/\r\n",
      "\u001b[34mne_10m_lakes_europe\u001b[m\u001b[m/\r\n",
      "\u001b[34mne_10m_lakes_historic\u001b[m\u001b[m/\r\n",
      "\u001b[34mne_10m_land\u001b[m\u001b[m/\r\n",
      "\u001b[34mne_10m_rivers_europe\u001b[m\u001b[m/\r\n",
      "\u001b[34mne_10m_rivers_lake_centerlines\u001b[m\u001b[m/\r\n",
      "\u001b[34mne_110m_land\u001b[m\u001b[m/\r\n",
      "nodes_ne_10m_lakes.csv\r\n",
      "nodes_ne_10m_lakes_europe.csv\r\n",
      "nodes_ne_10m_rivers_europe.csv\r\n",
      "nodes_ne_10m_rivers_lake_centerlines.csv\r\n"
     ]
    }
   ],
   "source": [
    "%ls"
   ]
  },
  {
   "cell_type": "code",
   "execution_count": 47,
   "metadata": {},
   "outputs": [
    {
     "name": "stdout",
     "output_type": "stream",
     "text": [
      "geom_ne_10m_rivers_lake_centerlines.csv\n",
      "geom_ne_10m_lakes_europe.csv\n",
      "geom_ne_10m_rivers_europe.csv\n",
      "geom_original_ne_10m_land.csv\n",
      "geom_ne_10m_lakes.csv\n"
     ]
    }
   ],
   "source": [
    "dirfiles=os.listdir(os.curdir)\n",
    "\n",
    "nodefiles=list()\n",
    "for fil in dirfiles:\n",
    "    if 'geom' in fil:\n",
    "        nodefiles.append(fil)\n",
    "        print fil\n"
   ]
  },
  {
   "cell_type": "code",
   "execution_count": 59,
   "metadata": {},
   "outputs": [],
   "source": [
    "dfs=list()\n",
    "for fil in nodefiles:\n",
    "    df=pd.read_csv(fil)\n",
    "    df=df[['xcoord','ycoord']]    \n",
    "    df.insert(0, 'row_id', range(0, len(df)))\n",
    "    dfs.append(df)\n",
    "    df.to_csv('id_' + fil)"
   ]
  },
  {
   "cell_type": "code",
   "execution_count": null,
   "metadata": {},
   "outputs": [],
   "source": []
  }
 ],
 "metadata": {
  "kernelspec": {
   "display_name": "Python 2",
   "language": "python",
   "name": "python2"
  },
  "language_info": {
   "codemirror_mode": {
    "name": "ipython",
    "version": 2
   },
   "file_extension": ".py",
   "mimetype": "text/x-python",
   "name": "python",
   "nbconvert_exporter": "python",
   "pygments_lexer": "ipython2",
   "version": "2.7.13"
  }
 },
 "nbformat": 4,
 "nbformat_minor": 2
}
