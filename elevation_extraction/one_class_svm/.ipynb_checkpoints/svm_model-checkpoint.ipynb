{
 "cells": [
  {
   "cell_type": "markdown",
   "metadata": {},
   "source": [
    "<h1>\n",
    "Unsupervised Machine Learning with\n",
    "</h1>\n",
    "<h1>\n",
    "One-Class (SVMs) Support Vector Machines\n",
    "</h1>"
   ]
  },
  {
   "cell_type": "code",
   "execution_count": 35,
   "metadata": {
    "scrolled": true
   },
   "outputs": [
    {
     "name": "stdout",
     "output_type": "stream",
     "text": [
      "Number of data points in initial data set 18312\n"
     ]
    }
   ],
   "source": [
    "%matplotlib inline\n",
    "\n",
    "import numpy as np\n",
    "import pandas as pd\n",
    "from sklearn import utils\n",
    "import matplotlib\n",
    "\n",
    "data = pd.read_csv('sites.csv', low_memory=False, error_bad_lines=False)\n",
    "print ('Number of data points in initial data set {}'.format(data.size))\n",
    "\n",
    "pdata = pd.read_csv('ireland_sites.csv', low_memory=False, error_bad_lines=False)\n",
    "# data.set_index('id')"
   ]
  },
  {
   "cell_type": "markdown",
   "metadata": {},
   "source": [
    "1. Extracting the relevant features in our data (which seems to be all of them so far except the id and coordinate fields)\n",
    "<br>\n",
    "2. Replace the data with a subset containing only the relevant features (again, which seems to be all of them until further changes)\n",
    "<br>\n",
    "3. Next we normalize the data - this leads to better accuracy and reduces the numerical instability in the SVM"
   ]
  },
  {
   "cell_type": "code",
   "execution_count": 37,
   "metadata": {},
   "outputs": [
    {
     "data": {
      "text/plain": [
       "['lake', 'aspect', 'slope', 'river', 'ele30m']"
      ]
     },
     "execution_count": 37,
     "metadata": {},
     "output_type": "execute_result"
    }
   ],
   "source": [
    "data_features=list(data)\n",
    "pdata_features=list(pdata)\n",
    "relevant_features = list(set(data_features) & set(pdata_features))\n",
    "relevant_features.remove('Latitude')\n",
    "relevant_features.remove('Longitude')\n",
    "relevant_features"
   ]
  },
  {
   "cell_type": "code",
   "execution_count": 38,
   "metadata": {},
   "outputs": [
    {
     "name": "stderr",
     "output_type": "stream",
     "text": [
      "/Library/Frameworks/Python.framework/Versions/3.6/lib/python3.6/site-packages/ipykernel_launcher.py:15: RuntimeWarning: invalid value encountered in log\n",
      "  from ipykernel import kernelapp as app\n"
     ]
    },
    {
     "data": {
      "text/html": [
       "<div>\n",
       "<style scoped>\n",
       "    .dataframe tbody tr th:only-of-type {\n",
       "        vertical-align: middle;\n",
       "    }\n",
       "\n",
       "    .dataframe tbody tr th {\n",
       "        vertical-align: top;\n",
       "    }\n",
       "\n",
       "    .dataframe thead th {\n",
       "        text-align: right;\n",
       "    }\n",
       "</style>\n",
       "<table border=\"1\" class=\"dataframe\">\n",
       "  <thead>\n",
       "    <tr style=\"text-align: right;\">\n",
       "      <th></th>\n",
       "      <th>ele30m</th>\n",
       "      <th>slope</th>\n",
       "      <th>aspect</th>\n",
       "      <th>river</th>\n",
       "      <th>lake</th>\n",
       "    </tr>\n",
       "  </thead>\n",
       "  <tbody>\n",
       "    <tr>\n",
       "      <th>0</th>\n",
       "      <td>2.406945</td>\n",
       "      <td>2.025285</td>\n",
       "      <td>5.452461</td>\n",
       "      <td>0.566866</td>\n",
       "      <td>0.649659</td>\n",
       "    </tr>\n",
       "    <tr>\n",
       "      <th>1</th>\n",
       "      <td>4.079231</td>\n",
       "      <td>-0.117894</td>\n",
       "      <td>5.488524</td>\n",
       "      <td>-0.939658</td>\n",
       "      <td>1.492799</td>\n",
       "    </tr>\n",
       "    <tr>\n",
       "      <th>2</th>\n",
       "      <td>3.990834</td>\n",
       "      <td>1.936342</td>\n",
       "      <td>5.841900</td>\n",
       "      <td>0.058422</td>\n",
       "      <td>1.360694</td>\n",
       "    </tr>\n",
       "    <tr>\n",
       "      <th>3</th>\n",
       "      <td>2.839078</td>\n",
       "      <td>2.574826</td>\n",
       "      <td>5.618955</td>\n",
       "      <td>0.708386</td>\n",
       "      <td>0.644151</td>\n",
       "    </tr>\n",
       "    <tr>\n",
       "      <th>4</th>\n",
       "      <td>5.199049</td>\n",
       "      <td>1.399067</td>\n",
       "      <td>5.619969</td>\n",
       "      <td>-1.425983</td>\n",
       "      <td>-0.299526</td>\n",
       "    </tr>\n",
       "  </tbody>\n",
       "</table>\n",
       "</div>"
      ],
      "text/plain": [
       "     ele30m     slope    aspect     river      lake\n",
       "0  2.406945  2.025285  5.452461  0.566866  0.649659\n",
       "1  4.079231 -0.117894  5.488524 -0.939658  1.492799\n",
       "2  3.990834  1.936342  5.841900  0.058422  1.360694\n",
       "3  2.839078  2.574826  5.618955  0.708386  0.644151\n",
       "4  5.199049  1.399067  5.619969 -1.425983 -0.299526"
      ]
     },
     "execution_count": 38,
     "metadata": {},
     "output_type": "execute_result"
    }
   ],
   "source": [
    "# extract features\n",
    "relevant_features = [\n",
    "    'ele30m', \n",
    "    'slope', \n",
    "    'aspect', \n",
    "    'river', \n",
    "    'lake'\n",
    "]\n",
    "\n",
    "# replace data\n",
    "data = data[relevant_features]\n",
    "\n",
    "# normalize the data\n",
    "for feature in relevant_features:\n",
    "    data[feature] = np.log((data[feature] + 0.1).astype(float))\n",
    "\n",
    "# print data\n",
    "data.head(5)"
   ]
  },
  {
   "cell_type": "code",
   "execution_count": 56,
   "metadata": {},
   "outputs": [
    {
     "name": "stdout",
     "output_type": "stream",
     "text": [
      "False\n",
      "False\n",
      "False\n",
      "True\n"
     ]
    }
   ],
   "source": [
    "print(np.any(np.isnan(\n",
    "    data.dropna()\n",
    ")))\n",
    "data=data[pd.notnull(data[list(data)])]\n",
    "print(np.all(np.isfinite(\n",
    "    data\n",
    ")))\n",
    "\n",
    "print(np.any(np.isnan(pdata)))\n",
    "print(np.all(np.isfinite(pdata)))"
   ]
  },
  {
   "cell_type": "markdown",
   "metadata": {},
   "source": [
    "<h2>Making our Data one-class</h2>\n",
    "<br>\n",
    "We're using a one-class SVM, so we need.. a single class\n",
    "<br>\n",
    "All the data we have is positive so we have\n",
    "<br>\n",
    "class 1 (site)"
   ]
  },
  {
   "cell_type": "code",
   "execution_count": 27,
   "metadata": {
    "scrolled": true
   },
   "outputs": [
    {
     "data": {
      "text/html": [
       "<div>\n",
       "<style scoped>\n",
       "    .dataframe tbody tr th:only-of-type {\n",
       "        vertical-align: middle;\n",
       "    }\n",
       "\n",
       "    .dataframe tbody tr th {\n",
       "        vertical-align: top;\n",
       "    }\n",
       "\n",
       "    .dataframe thead th {\n",
       "        text-align: right;\n",
       "    }\n",
       "</style>\n",
       "<table border=\"1\" class=\"dataframe\">\n",
       "  <thead>\n",
       "    <tr style=\"text-align: right;\">\n",
       "      <th></th>\n",
       "      <th>ele30m</th>\n",
       "      <th>slope</th>\n",
       "      <th>aspect</th>\n",
       "      <th>river</th>\n",
       "      <th>lake</th>\n",
       "      <th>site</th>\n",
       "    </tr>\n",
       "  </thead>\n",
       "  <tbody>\n",
       "    <tr>\n",
       "      <th>0</th>\n",
       "      <td>2.406945</td>\n",
       "      <td>2.025285</td>\n",
       "      <td>5.452461</td>\n",
       "      <td>0.566866</td>\n",
       "      <td>0.649659</td>\n",
       "      <td>-1</td>\n",
       "    </tr>\n",
       "    <tr>\n",
       "      <th>1</th>\n",
       "      <td>4.079231</td>\n",
       "      <td>-0.117894</td>\n",
       "      <td>5.488524</td>\n",
       "      <td>-0.939658</td>\n",
       "      <td>1.492799</td>\n",
       "      <td>-1</td>\n",
       "    </tr>\n",
       "    <tr>\n",
       "      <th>2</th>\n",
       "      <td>3.990834</td>\n",
       "      <td>1.936342</td>\n",
       "      <td>5.841900</td>\n",
       "      <td>0.058422</td>\n",
       "      <td>1.360694</td>\n",
       "      <td>-1</td>\n",
       "    </tr>\n",
       "    <tr>\n",
       "      <th>3</th>\n",
       "      <td>2.839078</td>\n",
       "      <td>2.574826</td>\n",
       "      <td>5.618955</td>\n",
       "      <td>0.708386</td>\n",
       "      <td>0.644151</td>\n",
       "      <td>-1</td>\n",
       "    </tr>\n",
       "    <tr>\n",
       "      <th>4</th>\n",
       "      <td>5.199049</td>\n",
       "      <td>1.399067</td>\n",
       "      <td>5.619969</td>\n",
       "      <td>-1.425983</td>\n",
       "      <td>-0.299526</td>\n",
       "      <td>-1</td>\n",
       "    </tr>\n",
       "  </tbody>\n",
       "</table>\n",
       "</div>"
      ],
      "text/plain": [
       "     ele30m     slope    aspect     river      lake  site\n",
       "0  2.406945  2.025285  5.452461  0.566866  0.649659    -1\n",
       "1  4.079231 -0.117894  5.488524 -0.939658  1.492799    -1\n",
       "2  3.990834  1.936342  5.841900  0.058422  1.360694    -1\n",
       "3  2.839078  2.574826  5.618955  0.708386  0.644151    -1\n",
       "4  5.199049  1.399067  5.619969 -1.425983 -0.299526    -1"
      ]
     },
     "execution_count": 27,
     "metadata": {},
     "output_type": "execute_result"
    }
   ],
   "source": [
    "data['site'] = -1\n",
    "data.head(5)"
   ]
  },
  {
   "cell_type": "markdown",
   "metadata": {},
   "source": [
    "Grab out the site value as the target for training and testing\n",
    "<br>\n",
    "Since we're only selecting a single column from the 'data' dataframe, we'll just get a series, not a new data frame"
   ]
  },
  {
   "cell_type": "code",
   "execution_count": 28,
   "metadata": {
    "scrolled": true
   },
   "outputs": [],
   "source": [
    "target = data['site']"
   ]
  },
  {
   "cell_type": "markdown",
   "metadata": {},
   "source": [
    "Find proportion? \n",
    "<br>\n",
    "maybe. skip this for now"
   ]
  },
  {
   "cell_type": "markdown",
   "metadata": {},
   "source": [
    "We drop site column name from the data frame so we can do unsupervied training with unlabelled data. We've already copied the site column name out into the target series so we can compare against it later"
   ]
  },
  {
   "cell_type": "code",
   "execution_count": 29,
   "metadata": {},
   "outputs": [
    {
     "data": {
      "text/html": [
       "<div>\n",
       "<style scoped>\n",
       "    .dataframe tbody tr th:only-of-type {\n",
       "        vertical-align: middle;\n",
       "    }\n",
       "\n",
       "    .dataframe tbody tr th {\n",
       "        vertical-align: top;\n",
       "    }\n",
       "\n",
       "    .dataframe thead th {\n",
       "        text-align: right;\n",
       "    }\n",
       "</style>\n",
       "<table border=\"1\" class=\"dataframe\">\n",
       "  <thead>\n",
       "    <tr style=\"text-align: right;\">\n",
       "      <th></th>\n",
       "      <th>ele30m</th>\n",
       "      <th>slope</th>\n",
       "      <th>aspect</th>\n",
       "      <th>river</th>\n",
       "      <th>lake</th>\n",
       "    </tr>\n",
       "  </thead>\n",
       "  <tbody>\n",
       "    <tr>\n",
       "      <th>0</th>\n",
       "      <td>2.406945</td>\n",
       "      <td>2.025285</td>\n",
       "      <td>5.452461</td>\n",
       "      <td>0.566866</td>\n",
       "      <td>0.649659</td>\n",
       "    </tr>\n",
       "    <tr>\n",
       "      <th>1</th>\n",
       "      <td>4.079231</td>\n",
       "      <td>-0.117894</td>\n",
       "      <td>5.488524</td>\n",
       "      <td>-0.939658</td>\n",
       "      <td>1.492799</td>\n",
       "    </tr>\n",
       "    <tr>\n",
       "      <th>2</th>\n",
       "      <td>3.990834</td>\n",
       "      <td>1.936342</td>\n",
       "      <td>5.841900</td>\n",
       "      <td>0.058422</td>\n",
       "      <td>1.360694</td>\n",
       "    </tr>\n",
       "    <tr>\n",
       "      <th>3</th>\n",
       "      <td>2.839078</td>\n",
       "      <td>2.574826</td>\n",
       "      <td>5.618955</td>\n",
       "      <td>0.708386</td>\n",
       "      <td>0.644151</td>\n",
       "    </tr>\n",
       "    <tr>\n",
       "      <th>4</th>\n",
       "      <td>5.199049</td>\n",
       "      <td>1.399067</td>\n",
       "      <td>5.619969</td>\n",
       "      <td>-1.425983</td>\n",
       "      <td>-0.299526</td>\n",
       "    </tr>\n",
       "  </tbody>\n",
       "</table>\n",
       "</div>"
      ],
      "text/plain": [
       "     ele30m     slope    aspect     river      lake\n",
       "0  2.406945  2.025285  5.452461  0.566866  0.649659\n",
       "1  4.079231 -0.117894  5.488524 -0.939658  1.492799\n",
       "2  3.990834  1.936342  5.841900  0.058422  1.360694\n",
       "3  2.839078  2.574826  5.618955  0.708386  0.644151\n",
       "4  5.199049  1.399067  5.619969 -1.425983 -0.299526"
      ]
     },
     "execution_count": 29,
     "metadata": {},
     "output_type": "execute_result"
    }
   ],
   "source": [
    "data.drop(['site'], axis=1, inplace=True)\n",
    "data.head(5)"
   ]
  },
  {
   "cell_type": "markdown",
   "metadata": {
    "collapsed": true
   },
   "source": [
    "Check the shape for sanity checking"
   ]
  },
  {
   "cell_type": "code",
   "execution_count": 30,
   "metadata": {},
   "outputs": [
    {
     "data": {
      "text/plain": [
       "(1526, 5)"
      ]
     },
     "execution_count": 30,
     "metadata": {},
     "output_type": "execute_result"
    }
   ],
   "source": [
    "data.shape"
   ]
  },
  {
   "cell_type": "markdown",
   "metadata": {},
   "source": [
    "<h2>\n",
    "Splitting the Data into Training and Test Sets\n",
    "</h2>"
   ]
  },
  {
   "cell_type": "code",
   "execution_count": 31,
   "metadata": {},
   "outputs": [
    {
     "name": "stderr",
     "output_type": "stream",
     "text": [
      "/Library/Frameworks/Python.framework/Versions/3.6/lib/python3.6/site-packages/sklearn/model_selection/_split.py:2026: FutureWarning: From version 0.21, test_size will always complement train_size unless both are specified.\n",
      "  FutureWarning)\n"
     ]
    },
    {
     "data": {
      "text/plain": [
       "(1068, 5)"
      ]
     },
     "execution_count": 31,
     "metadata": {},
     "output_type": "execute_result"
    }
   ],
   "source": [
    "from sklearn.model_selection import train_test_split\n",
    "\n",
    "train_data, test_data, train_target, test_target = train_test_split(data, target, train_size=0.7)\n",
    "\n",
    "train_data.shape"
   ]
  },
  {
   "cell_type": "markdown",
   "metadata": {},
   "source": [
    "<strong>nu</strong>     - 'An upper bound on the fraction of training errors and a lower bound of the fraction of support vectors' and must be between 0 and 1. Basically this means the proportion of outliers we expect in our data.\n",
    "<br>\n",
    "<strong>kernel</strong> - the kernel type to be used. Setting kernel to something other than linear here will achieve that. The default is rbf (RBF - radial basis function).\n",
    "\n",
    "<strong>gamma</strong>  - parameter of the RBF kernel type and controls the influence of individual training samples, the effects the 'smoothness' of the model. A low value improves the smoothness and \"generalizability\" of the model, while a high values reduces it but makes the model \"tighter-fitted\" to the training data. Some experimentation is often required to find the best value.\n"
   ]
  },
  {
   "cell_type": "code",
   "execution_count": 33,
   "metadata": {
    "scrolled": true
   },
   "outputs": [
    {
     "ename": "ValueError",
     "evalue": "Input contains NaN, infinity or a value too large for dtype('float64').",
     "output_type": "error",
     "traceback": [
      "\u001b[0;31m---------------------------------------------------------------------------\u001b[0m",
      "\u001b[0;31mValueError\u001b[0m                                Traceback (most recent call last)",
      "\u001b[0;32m<ipython-input-33-1a028bc10e23>\u001b[0m in \u001b[0;36m<module>\u001b[0;34m()\u001b[0m\n\u001b[1;32m      4\u001b[0m \u001b[0;31m# attributes (nu=0.01, kernel='rbf', gamma=0.00005)\u001b[0m\u001b[0;34m\u001b[0m\u001b[0;34m\u001b[0m\u001b[0m\n\u001b[1;32m      5\u001b[0m \u001b[0mmodel\u001b[0m \u001b[0;34m=\u001b[0m \u001b[0msvm\u001b[0m\u001b[0;34m.\u001b[0m\u001b[0mOneClassSVM\u001b[0m\u001b[0;34m(\u001b[0m\u001b[0;34m)\u001b[0m\u001b[0;34m\u001b[0m\u001b[0m\n\u001b[0;32m----> 6\u001b[0;31m \u001b[0mmodel\u001b[0m\u001b[0;34m.\u001b[0m\u001b[0mfit\u001b[0m\u001b[0;34m(\u001b[0m\u001b[0mtrain_data\u001b[0m\u001b[0;34m)\u001b[0m\u001b[0;34m\u001b[0m\u001b[0m\n\u001b[0m",
      "\u001b[0;32m/Library/Frameworks/Python.framework/Versions/3.6/lib/python3.6/site-packages/sklearn/svm/classes.py\u001b[0m in \u001b[0;36mfit\u001b[0;34m(self, X, y, sample_weight, **params)\u001b[0m\n\u001b[1;32m   1082\u001b[0m         \"\"\"\n\u001b[1;32m   1083\u001b[0m         super(OneClassSVM, self).fit(X, np.ones(_num_samples(X)),\n\u001b[0;32m-> 1084\u001b[0;31m                                      sample_weight=sample_weight, **params)\n\u001b[0m\u001b[1;32m   1085\u001b[0m         \u001b[0;32mreturn\u001b[0m \u001b[0mself\u001b[0m\u001b[0;34m\u001b[0m\u001b[0m\n\u001b[1;32m   1086\u001b[0m \u001b[0;34m\u001b[0m\u001b[0m\n",
      "\u001b[0;32m/Library/Frameworks/Python.framework/Versions/3.6/lib/python3.6/site-packages/sklearn/svm/base.py\u001b[0m in \u001b[0;36mfit\u001b[0;34m(self, X, y, sample_weight)\u001b[0m\n\u001b[1;32m    147\u001b[0m         \u001b[0mself\u001b[0m\u001b[0;34m.\u001b[0m\u001b[0m_sparse\u001b[0m \u001b[0;34m=\u001b[0m \u001b[0msparse\u001b[0m \u001b[0;32mand\u001b[0m \u001b[0;32mnot\u001b[0m \u001b[0mcallable\u001b[0m\u001b[0;34m(\u001b[0m\u001b[0mself\u001b[0m\u001b[0;34m.\u001b[0m\u001b[0mkernel\u001b[0m\u001b[0;34m)\u001b[0m\u001b[0;34m\u001b[0m\u001b[0m\n\u001b[1;32m    148\u001b[0m \u001b[0;34m\u001b[0m\u001b[0m\n\u001b[0;32m--> 149\u001b[0;31m         \u001b[0mX\u001b[0m\u001b[0;34m,\u001b[0m \u001b[0my\u001b[0m \u001b[0;34m=\u001b[0m \u001b[0mcheck_X_y\u001b[0m\u001b[0;34m(\u001b[0m\u001b[0mX\u001b[0m\u001b[0;34m,\u001b[0m \u001b[0my\u001b[0m\u001b[0;34m,\u001b[0m \u001b[0mdtype\u001b[0m\u001b[0;34m=\u001b[0m\u001b[0mnp\u001b[0m\u001b[0;34m.\u001b[0m\u001b[0mfloat64\u001b[0m\u001b[0;34m,\u001b[0m \u001b[0morder\u001b[0m\u001b[0;34m=\u001b[0m\u001b[0;34m'C'\u001b[0m\u001b[0;34m,\u001b[0m \u001b[0maccept_sparse\u001b[0m\u001b[0;34m=\u001b[0m\u001b[0;34m'csr'\u001b[0m\u001b[0;34m)\u001b[0m\u001b[0;34m\u001b[0m\u001b[0m\n\u001b[0m\u001b[1;32m    150\u001b[0m         \u001b[0my\u001b[0m \u001b[0;34m=\u001b[0m \u001b[0mself\u001b[0m\u001b[0;34m.\u001b[0m\u001b[0m_validate_targets\u001b[0m\u001b[0;34m(\u001b[0m\u001b[0my\u001b[0m\u001b[0;34m)\u001b[0m\u001b[0;34m\u001b[0m\u001b[0m\n\u001b[1;32m    151\u001b[0m \u001b[0;34m\u001b[0m\u001b[0m\n",
      "\u001b[0;32m/Library/Frameworks/Python.framework/Versions/3.6/lib/python3.6/site-packages/sklearn/utils/validation.py\u001b[0m in \u001b[0;36mcheck_X_y\u001b[0;34m(X, y, accept_sparse, dtype, order, copy, force_all_finite, ensure_2d, allow_nd, multi_output, ensure_min_samples, ensure_min_features, y_numeric, warn_on_dtype, estimator)\u001b[0m\n\u001b[1;32m    571\u001b[0m     X = check_array(X, accept_sparse, dtype, order, copy, force_all_finite,\n\u001b[1;32m    572\u001b[0m                     \u001b[0mensure_2d\u001b[0m\u001b[0;34m,\u001b[0m \u001b[0mallow_nd\u001b[0m\u001b[0;34m,\u001b[0m \u001b[0mensure_min_samples\u001b[0m\u001b[0;34m,\u001b[0m\u001b[0;34m\u001b[0m\u001b[0m\n\u001b[0;32m--> 573\u001b[0;31m                     ensure_min_features, warn_on_dtype, estimator)\n\u001b[0m\u001b[1;32m    574\u001b[0m     \u001b[0;32mif\u001b[0m \u001b[0mmulti_output\u001b[0m\u001b[0;34m:\u001b[0m\u001b[0;34m\u001b[0m\u001b[0m\n\u001b[1;32m    575\u001b[0m         y = check_array(y, 'csr', force_all_finite=True, ensure_2d=False,\n",
      "\u001b[0;32m/Library/Frameworks/Python.framework/Versions/3.6/lib/python3.6/site-packages/sklearn/utils/validation.py\u001b[0m in \u001b[0;36mcheck_array\u001b[0;34m(array, accept_sparse, dtype, order, copy, force_all_finite, ensure_2d, allow_nd, ensure_min_samples, ensure_min_features, warn_on_dtype, estimator)\u001b[0m\n\u001b[1;32m    451\u001b[0m                              % (array.ndim, estimator_name))\n\u001b[1;32m    452\u001b[0m         \u001b[0;32mif\u001b[0m \u001b[0mforce_all_finite\u001b[0m\u001b[0;34m:\u001b[0m\u001b[0;34m\u001b[0m\u001b[0m\n\u001b[0;32m--> 453\u001b[0;31m             \u001b[0m_assert_all_finite\u001b[0m\u001b[0;34m(\u001b[0m\u001b[0marray\u001b[0m\u001b[0;34m)\u001b[0m\u001b[0;34m\u001b[0m\u001b[0m\n\u001b[0m\u001b[1;32m    454\u001b[0m \u001b[0;34m\u001b[0m\u001b[0m\n\u001b[1;32m    455\u001b[0m     \u001b[0mshape_repr\u001b[0m \u001b[0;34m=\u001b[0m \u001b[0m_shape_repr\u001b[0m\u001b[0;34m(\u001b[0m\u001b[0marray\u001b[0m\u001b[0;34m.\u001b[0m\u001b[0mshape\u001b[0m\u001b[0;34m)\u001b[0m\u001b[0;34m\u001b[0m\u001b[0m\n",
      "\u001b[0;32m/Library/Frameworks/Python.framework/Versions/3.6/lib/python3.6/site-packages/sklearn/utils/validation.py\u001b[0m in \u001b[0;36m_assert_all_finite\u001b[0;34m(X)\u001b[0m\n\u001b[1;32m     42\u001b[0m             and not np.isfinite(X).all()):\n\u001b[1;32m     43\u001b[0m         raise ValueError(\"Input contains NaN, infinity\"\n\u001b[0;32m---> 44\u001b[0;31m                          \" or a value too large for %r.\" % X.dtype)\n\u001b[0m\u001b[1;32m     45\u001b[0m \u001b[0;34m\u001b[0m\u001b[0m\n\u001b[1;32m     46\u001b[0m \u001b[0;34m\u001b[0m\u001b[0m\n",
      "\u001b[0;31mValueError\u001b[0m: Input contains NaN, infinity or a value too large for dtype('float64')."
     ]
    }
   ],
   "source": [
    "from sklearn import svm\n",
    "\n",
    "# set nu (which should be proportion of outliers in our data, but we don't exactly know it)\n",
    "# attributes (nu=0.01, kernel='rbf', gamma=0.00005)\n",
    "model = svm.OneClassSVM()\n",
    "model.fit(train_data)"
   ]
  },
  {
   "cell_type": "code",
   "execution_count": 74,
   "metadata": {},
   "outputs": [
    {
     "name": "stdout",
     "output_type": "stream",
     "text": [
      "accuracy:   0.5014084507042254\n",
      "precision:  1.0\n",
      "recall:     0.5014084507042254\n",
      "f1:         0.6679174484052532\n"
     ]
    }
   ],
   "source": [
    "from sklearn import metrics\n",
    "preds = model.predict(train_data)\n",
    "targs = train_target\n",
    "\n",
    "args = (targs, preds)\n",
    "\n",
    "print(\"accuracy:  \", metrics.accuracy_score(*args))\n",
    "print(\"precision: \", metrics.precision_score(*args))\n",
    "print(\"recall:    \", metrics.recall_score(*args))\n",
    "print(\"f1:        \", metrics.f1_score(*args))\n",
    "# print(\"area under curve (auc): \", metrics.roc_auc_score(*args))"
   ]
  },
  {
   "cell_type": "code",
   "execution_count": 78,
   "metadata": {},
   "outputs": [
    {
     "name": "stdout",
     "output_type": "stream",
     "text": [
      "Training Data\n",
      "accuracy:   0.6169014084507042\n",
      "precision:  1.0\n",
      "recall:     0.6169014084507042\n",
      "f1:         0.7630662020905923\n",
      "\n",
      "\n",
      "Test Data\n",
      "accuracy:   0.5951859956236324\n",
      "precision:  1.0\n",
      "recall:     0.5951859956236324\n",
      "f1:         0.7462277091906722\n"
     ]
    }
   ],
   "source": [
    "from sklearn import svm\n",
    "\n",
    "# set nu (which should be proportion of outliers in our data, but we don't exactly know it)\n",
    "# attributes (nu=0.01, kernel='rbf', gamma=0.00005)\n",
    "model = svm.OneClassSVM(nu=0.1, kernel='linear', gamma=0.1)\n",
    "model.fit(train_data)\n",
    "\n",
    "from sklearn import metrics\n",
    "preds = model.predict(train_data)\n",
    "targs = train_target\n",
    "\n",
    "args = (targs, preds)\n",
    "\n",
    "print(\"Training Data\")\n",
    "print(\"accuracy:  \", metrics.accuracy_score(*args))\n",
    "print(\"precision: \", metrics.precision_score(*args))\n",
    "print(\"recall:    \", metrics.recall_score(*args))\n",
    "print(\"f1:        \", metrics.f1_score(*args))\n",
    "# print(\"area under curve (auc): \", metrics.roc_auc_score(*args))\n",
    "\n",
    "preds = model.predict(test_data)\n",
    "targs = test_target\n",
    "\n",
    "args = (targs, preds)\n",
    "\n",
    "print(\"\\n\")\n",
    "print(\"Test Data\")\n",
    "print(\"accuracy:  \", metrics.accuracy_score(*args))\n",
    "print(\"precision: \", metrics.precision_score(*args))\n",
    "print(\"recall:    \", metrics.recall_score(*args))\n",
    "print(\"f1:        \", metrics.f1_score(*args))\n",
    "# print(\"area under curve (auc): \", metrics.roc_auc_score(*args))"
   ]
  },
  {
   "cell_type": "markdown",
   "metadata": {
    "collapsed": true
   },
   "source": [
    "<h1>\n",
    "Prediction\n",
    "</h1>"
   ]
  },
  {
   "cell_type": "code",
   "execution_count": 113,
   "metadata": {},
   "outputs": [
    {
     "name": "stdout",
     "output_type": "stream",
     "text": [
      "Number of rows in initial data set 3962736\n",
      "Sitesexists:      294875\n",
      "Sites dn exists:  365581\n",
      "Percentage of sites predicted having an archeological site\n",
      "0.44647 %\n"
     ]
    },
    {
     "data": {
      "text/plain": [
       "<matplotlib.axes._subplots.AxesSubplot at 0x115e97940>"
      ]
     },
     "execution_count": 113,
     "metadata": {},
     "output_type": "execute_result"
    },
    {
     "data": {
      "image/png": "[encoded data removed]",
      "text/plain": [
       "<matplotlib.figure.Figure at 0x10a042fd0>"
      ]
     },
     "metadata": {},
     "output_type": "display_data"
    }
   ],
   "source": [
    "pdata = pd.read_csv('ireland_sites.csv', low_memory=False)\n",
    "print ('Number of rows in initial data set {}'.format(pdata.size))\n",
    "\n",
    "# extract features\n",
    "relevant_features = [\n",
    "    'Elevation',\n",
    "    'lake Distance',\n",
    "    'river Distance'\n",
    "]\n",
    "\n",
    "# replace data\n",
    "pdata = pdata[relevant_features]\n",
    "\n",
    "# normalize the data\n",
    "for feature in relevant_features:\n",
    "    pdata[feature] = np.log((pdata[feature] + 0.1).astype(float))\n",
    "\n",
    "# print data\n",
    "pdata.head(5)\n",
    "\n",
    "preds = model.predict(pdata)\n",
    "\n",
    "df = pdata.copy(deep=True)\n",
    "df['prediction'] = preds\n",
    "\n",
    "site_exists = df[df['prediction'] == 1]\n",
    "site_nexists = df[df['prediction'] != 1]\n",
    "\n",
    "print('Sitesexists:     ', site_exists['prediction'].count())\n",
    "print('Sites dn exists: ', site_nexists['prediction'].count())\n",
    "\n",
    "print('Percentage of sites predicted having an archeological site')\n",
    "print('%.5f' % (float(site_exists['prediction'].count())/float(df['prediction'].count())), '%')\n",
    "\n",
    "df.prediction.value_counts().plot(kind='bar')  "
   ]
  },
  {
   "cell_type": "code",
   "execution_count": null,
   "metadata": {
    "collapsed": true
   },
   "outputs": [],
   "source": []
  }
 ],
 "metadata": {
  "kernelspec": {
   "display_name": "Python 3",
   "language": "python",
   "name": "python3"
  },
  "language_info": {
   "codemirror_mode": {
    "name": "ipython",
    "version": 3
   },
   "file_extension": ".py",
   "mimetype": "text/x-python",
   "name": "python",
   "nbconvert_exporter": "python",
   "pygments_lexer": "ipython3",
   "version": "3.6.1"
  }
 },
 "nbformat": 4,
 "nbformat_minor": 2
}
