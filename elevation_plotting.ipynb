{
 "cells": [
  {
   "cell_type": "code",
   "execution_count": 1,
   "metadata": {
    "collapsed": true
   },
   "outputs": [],
   "source": [
    "import os\n",
    "import csv\n",
    "\n",
    "import pandas as pd\n",
    "\n",
    "import matplotlib\n",
    "matplotlib.use('nbagg')\n",
    "\n",
    "from mpl_toolkits.basemap import Basemap\n",
    "import matplotlib.pyplot as plt\n"
   ]
  },
  {
   "cell_type": "code",
   "execution_count": 5,
   "metadata": {},
   "outputs": [
    {
     "name": "stderr",
     "output_type": "stream",
     "text": [
      "Skipping line 2378: expected 5 fields, saw 6\n",
      "Skipping line 4392: expected 5 fields, saw 9\n",
      "\n"
     ]
    }
   ],
   "source": [
    "data_folder = \"/Users/WillC/Documents/Rutgers/3rd_Year/Spring_Semester/intro-data-science/neolithic_prediction_modeling/data/EUROEVOL_Dataset\"\n",
    "data_file = \"EUROEVOL09-07-201516-34_CommonSites.csv\"\n",
    "commonsites = os.path.join(data_folder, data_file)\n",
    "\n",
    "df = pd.read_csv(commonsites, sep=',', error_bad_lines=False)\n",
    "# df.head(100)"
   ]
  },
  {
   "cell_type": "code",
   "execution_count": 18,
   "metadata": {},
   "outputs": [
    {
     "name": "stdout",
     "output_type": "stream",
     "text": [
      "France has 1034 sites\n"
     ]
    }
   ],
   "source": [
    "country = 'France'\n",
    "france_sites = df.where(df['Country'] == country).dropna()\n",
    "print '%s has %d sites'% (country, france_sites['Country'].count())\n",
    "# france_sites.head(100)\n",
    "\n",
    "minlat = france_sites['Latitude'].min()\n",
    "maxlat = france_sites['Latitude'].max()\n",
    "difflat = maxlat - minlat\n",
    "minlat -= (difflat / 100)\n",
    "maxlat += (difflat / 100)\n",
    "\n",
    "\n",
    "minlon = france_sites['Longitude'].min()\n",
    "maxlon = france_sites['Longitude'].max()\n",
    "difflon = maxlon - minlon\n",
    "minlon -= (difflon / 100)\n",
    "maxlon += (difflon / 100)"
   ]
  },
  {
   "cell_type": "code",
   "execution_count": null,
   "metadata": {},
   "outputs": [],
   "source": [
    "m = Basemap(projection='mill',\n",
    "            llcrnrlat=minlat,urcrnrlat=maxlat,     \n",
    "            llcrnrlon=minlon,urcrnrlon=maxlon,resolution='l')\n",
    "\n",
    "m.drawcoastlines()\n",
    "m.drawcountries()\n",
    "m.drawstates()\n",
    "# m.drawrivers()\n",
    "# m.fillcontinents(color='#04BAE3', lake_color='#FFFFFF')\n",
    "# m.drawmapboundary(fill_color='#FFFFFF')\n",
    "m.bluemarble()\n",
    "\n",
    "lat = france_sites['Latitude'].tolist()\n",
    "lon = france_sites['Longitude'].tolist()\n",
    "\n",
    "x, y = m(lon, lat)\n",
    "m.plot(x, y, 'r.')\n",
    "\n",
    "plt.title('France artifact basemap')\n",
    "plt.show()"
   ]
  },
  {
   "cell_type": "code",
   "execution_count": null,
   "metadata": {
    "collapsed": true
   },
   "outputs": [],
   "source": []
  }
 ],
 "metadata": {
  "kernelspec": {
   "display_name": "Python 2",
   "language": "python",
   "name": "python2"
  },
  "language_info": {
   "codemirror_mode": {
    "name": "ipython",
    "version": 2
   },
   "file_extension": ".py",
   "mimetype": "text/x-python",
   "name": "python",
   "nbconvert_exporter": "python",
   "pygments_lexer": "ipython2",
   "version": "2.7.13"
  }
 },
 "nbformat": 4,
 "nbformat_minor": 2
}
